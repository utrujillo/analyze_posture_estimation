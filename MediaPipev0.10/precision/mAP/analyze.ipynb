{
 "cells": [
  {
   "cell_type": "code",
   "execution_count": 1,
   "id": "0e3c5584",
   "metadata": {},
   "outputs": [
    {
     "name": "stdout",
     "output_type": "stream",
     "text": [
      "                                                    image  threshold  true_keypoints  num_visible  true_positives  false_positives  false_negatives    recall        ap\n",
      "0  imagen_001_jpg.rf.2a634f01a533e3e1518c478c8d4dde0f.jpg        0.1              17           17              16                1                1  0.941176  0.941176\n",
      "1  imagen_001_jpg.rf.2a634f01a533e3e1518c478c8d4dde0f.jpg        0.5              17           17              17                0                0  1.000000  1.000000\n",
      "2  imagen_001_jpg.rf.2a634f01a533e3e1518c478c8d4dde0f.jpg        0.9              17           17              17                0                0  1.000000  1.000000\n",
      "3  imagen_002_jpg.rf.39766b197a04d8d1569b3e546fd07390.jpg        0.1              17           17              14                3                3  0.823529  0.823529\n",
      "4  imagen_002_jpg.rf.39766b197a04d8d1569b3e546fd07390.jpg        0.5              17           17              15                2                2  0.882353  0.882353\n"
     ]
    }
   ],
   "source": [
    "import pandas as pd\n",
    "import matplotlib.pyplot as plt\n",
    "import seaborn as sns\n",
    "import numpy as np\n",
    "\n",
    "data = pd.read_excel('mAP_results.xlsx')\n",
    "\n",
    "print(data.head().to_string())\n",
    "df = pd.DataFrame(data)"
   ]
  },
  {
   "cell_type": "code",
   "execution_count": 2,
   "id": "14c386cb",
   "metadata": {},
   "outputs": [
    {
     "name": "stdout",
     "output_type": "stream",
     "text": [
      "   threshold  media_ap  mediana_ap  desviacion_estandar_ap\n",
      "0        0.1  0.793631    0.823529                0.198001\n",
      "1        0.5  0.865452    0.882353                0.175411\n",
      "2        0.9  0.866292    0.882353                0.175348\n"
     ]
    }
   ],
   "source": [
    "# Asumiendo que tu DataFrame se llama df\n",
    "estadisticos_ap = df.groupby('threshold')['ap'].agg(['mean', 'median', 'std']).reset_index()\n",
    "\n",
    "# Renombrar las columnas para mayor claridad\n",
    "estadisticos_ap.columns = ['threshold', 'media_ap', 'mediana_ap', 'desviacion_estandar_ap']\n",
    "\n",
    "print(estadisticos_ap)"
   ]
  },
  {
   "cell_type": "markdown",
   "id": "4ee4e233",
   "metadata": {},
   "source": [
    "# Analsis de Recall y AP\n",
    "Ambos son iguales, debido a que false_positives y false_negatives siempre son iguales segun la informacion recolectada"
   ]
  },
  {
   "cell_type": "code",
   "execution_count": 3,
   "id": "2c91beec",
   "metadata": {},
   "outputs": [
    {
     "name": "stdout",
     "output_type": "stream",
     "text": [
      "           count      mean       std  min       25%       50%       75%  max\n",
      "threshold                                                                   \n",
      "0.1         70.0  0.793631  0.198001  0.0  0.705882  0.823529  0.941176  1.0\n",
      "0.5         70.0  0.865452  0.175411  0.0  0.773529  0.882353  1.000000  1.0\n",
      "0.9         70.0  0.866292  0.175348  0.0  0.773529  0.882353  1.000000  1.0\n"
     ]
    }
   ],
   "source": [
    "ap_stats = df.groupby('threshold')['ap'].describe()\n",
    "print(ap_stats.to_string())"
   ]
  },
  {
   "cell_type": "code",
   "execution_count": 4,
   "id": "27f77e1e",
   "metadata": {},
   "outputs": [
    {
     "name": "stderr",
     "output_type": "stream",
     "text": [
      "/var/folders/jf/mtmp9vvj5qdfvc_x4zl5yz7m0000gn/T/ipykernel_4914/987189809.py:13: FutureWarning: \n",
      "\n",
      "Passing `palette` without assigning `hue` is deprecated and will be removed in v0.14.0. Assign the `x` variable to `hue` and set `legend=False` for the same effect.\n",
      "\n",
      "  sns.boxplot(\n"
     ]
    },
    {
     "data": {
      "image/png": "[encoded data removed]",
      "text/plain": [
       "<Figure size 370x500 with 1 Axes>"
      ]
     },
     "metadata": {},
     "output_type": "display_data"
    }
   ],
   "source": [
    "plt.figure(figsize=(3.7, 5))  # Aumentar tamaño para mejor legibilidad\n",
    "\n",
    "# Configurar el tamaño de fuente global para todos los elementos del gráfico\n",
    "plt.rcParams.update({\n",
    "    'font.size': 10,          # Tamaño de fuente base\n",
    "    'axes.titlesize': 10,     # Tamaño de fuente para títulos\n",
    "    'axes.labelsize': 10,     # Tamaño de fuente para etiquetas de ejes\n",
    "    'xtick.labelsize': 10,    # Tamaño de fuente para etiquetas del eje x\n",
    "    'ytick.labelsize': 10     # Tamaño de fuente para etiquetas del eje y\n",
    "})\n",
    "\n",
    "# Boxplot para AP\n",
    "sns.boxplot(\n",
    "    data=df,\n",
    "    x='threshold',\n",
    "    y='ap',  # Cambiar 'recall' por 'ap'\n",
    "    showmeans=True,\n",
    "    meanprops={'marker':'o', 'markerfacecolor':'white', 'markeredgecolor':'black', 'markersize':10},  # Aumentar tamaño del marcador\n",
    "    palette='Blues'  # Cambiar paleta de colores\n",
    ")\n",
    "\n",
    "# Personalización del gráfico\n",
    "# plt.title('Distribución del Average Precision (AP) por Threshold', pad=20)\n",
    "plt.xlabel('Threshold')\n",
    "plt.ylabel('Average Precision (AP)')\n",
    "plt.ylim(0, 1.1)\n",
    "plt.grid(axis='y', linestyle='--', alpha=0.3)\n",
    "\n",
    "# Añadir anotaciones de estadísticas clave\n",
    "for i, threshold in enumerate(ap_stats.index):\n",
    "    plt.text(\n",
    "        i, 1.08,  # Ajustar posición vertical\n",
    "        f\"n={int(ap_stats.loc[threshold, 'count'])}\\nμ={ap_stats.loc[threshold, 'mean']:.2f} ± {ap_stats.loc[threshold, 'std']:.2f}\",\n",
    "        ha='center',\n",
    "        fontsize=8,\n",
    "        bbox=dict(facecolor='white', alpha=0.8, edgecolor='gray', boxstyle='round,pad=0.5')  # Caja de fondo\n",
    "    )\n",
    "\n",
    "# Añadir línea horizontal en AP=1 para referencia\n",
    "plt.axhline(y=1.0, color='green', linestyle=':', alpha=0.5, label='AP Máximo')\n",
    "plt.legend(loc='lower right')\n",
    "\n",
    "plt.tight_layout()  # Mejorar espaciado\n",
    "plt.show()"
   ]
  }
 ],
 "metadata": {
  "kernelspec": {
   "display_name": "mpipe (Python 3.12)",
   "language": "python",
   "name": "mpipe"
  },
  "language_info": {
   "codemirror_mode": {
    "name": "ipython",
    "version": 3
   },
   "file_extension": ".py",
   "mimetype": "text/x-python",
   "name": "python",
   "nbconvert_exporter": "python",
   "pygments_lexer": "ipython3",
   "version": "3.12.0"
  }
 },
 "nbformat": 4,
 "nbformat_minor": 5
}
