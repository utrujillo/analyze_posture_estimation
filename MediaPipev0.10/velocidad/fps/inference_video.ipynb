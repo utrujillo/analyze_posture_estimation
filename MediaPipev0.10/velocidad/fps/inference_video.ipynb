{
 "cells": [
  {
   "cell_type": "markdown",
   "id": "1bbf10d9",
   "metadata": {},
   "source": [
    "# MPS (Metal Performance Shaders) is a framework for GPU-accelerated image processing\n",
    "and machine learning on Apple platforms. It provides a set of highly optimized"
   ]
  },
  {
   "cell_type": "code",
   "execution_count": 15,
   "id": "af76bf9c",
   "metadata": {},
   "outputs": [],
   "source": [
    "import os\n",
    "import importlib , evaluator, pandas as pd # Importar importlib para recargar módulos\n",
    "from dotenv import load_dotenv\n",
    "\n",
    "dotenv_path = os.path.join(os.getcwd(), '..', '.env')\n",
    "importlib.reload(evaluator)\n",
    "from glob import glob\n",
    "from evaluator import Evaluator\n",
    "\n",
    "# Configuracion\n",
    "images_path = os.path.join(os.getenv('BASE_PATH'), os.getenv('IMAGES_SUBPATH'))\n",
    "labels_path = os.path.join(os.getenv('BASE_PATH'), os.getenv('LABELS_SUBPATH'))\n",
    "videos_path = os.path.join(os.getenv('BASE_PATH'), os.getenv('VIDEOS_SUBPATH'))\n",
    "evaluator = Evaluator(os.getenv('BASE_PATH'), images_path, labels_path, videos_path)\n",
    "thresholds = [0.1, 0.5, 0.9]"
   ]
  },
  {
   "cell_type": "markdown",
   "id": "e90790bb",
   "metadata": {},
   "source": [
    "# Evalaur un video"
   ]
  },
  {
   "cell_type": "code",
   "execution_count": 16,
   "id": "15c67913",
   "metadata": {},
   "outputs": [
    {
     "name": "stderr",
     "output_type": "stream",
     "text": [
      "I0000 00:00:1761704038.626226   93513 gl_context.cc:369] GL version: 2.1 (2.1 ATI-4.10.12), renderer: AMD Radeon Pro 5300M OpenGL Engine\n",
      "CPU: ejercicio01 - frente.mp4:   0%|          | 0/175 [00:00<?, ?frame/s]W0000 00:00:1761704038.835469  103199 inference_feedback_manager.cc:114] Feedback manager requires a model with a single signature inference. Disabling support for feedback tensors.\n",
      "W0000 00:00:1761704038.974505  103205 inference_feedback_manager.cc:114] Feedback manager requires a model with a single signature inference. Disabling support for feedback tensors.\n",
      "CPU: ejercicio01 - frente.mp4: 100%|██████████| 175/175 [00:03<00:00, 50.18frame/s]\n",
      "CPU: ejercicio01 - frente.mp4: 100%|██████████| 175/175 [00:03<00:00, 53.86frame/s]\n",
      "CPU: ejercicio01 - frente.mp4: 100%|██████████| 175/175 [00:03<00:00, 55.22frame/s]\n"
     ]
    }
   ],
   "source": [
    "video = 'ejercicio01 - frente.mp4'\n",
    "video_path = os.path.join('uziel', 'ejercicio01', 'conLuz', video)\n",
    "\n",
    "results = []\n",
    "for threshold in thresholds:\n",
    "    results = evaluator.video_on_cpu(\n",
    "            videos_path=video_path,\n",
    "            threshold=threshold,\n",
    "            results=results,\n",
    "            frame_skip=5\n",
    "        )"
   ]
  },
  {
   "cell_type": "markdown",
   "id": "5423390d",
   "metadata": {},
   "source": [
    "# Evaluar FPS de un video usando la CPU"
   ]
  },
  {
   "cell_type": "code",
   "execution_count": null,
   "id": "663075f3",
   "metadata": {},
   "outputs": [],
   "source": [
    "folder_path = os.path.join(videos_path, 'uziel')\n",
    "video_extensions = ['*.mp4', '*.avi', '*.mov']\n",
    "video_files = []\n",
    "results = []\n",
    "\n",
    "for ext in video_extensions:\n",
    "    video_files.extend(glob(os.path.join(folder_path, '**', ext), recursive=True))\n",
    "\n",
    "results = []\n",
    "for video in video_files:\n",
    "    for threshold in thresholds:\n",
    "        results = evaluator.video_on_cpu(\n",
    "            videos_path=video,\n",
    "            threshold=threshold,\n",
    "            results=results,\n",
    "            frame_skip=5\n",
    "        )"
   ]
  },
  {
   "cell_type": "markdown",
   "id": "20c442ae",
   "metadata": {},
   "source": [
    "# Generando XLS"
   ]
  },
  {
   "cell_type": "code",
   "execution_count": 17,
   "id": "65a6c044",
   "metadata": {},
   "outputs": [
    {
     "name": "stdout",
     "output_type": "stream",
     "text": [
      "Los resultados se han guardado en /Users/apple/Documents/pose_estimation/MediaPipev0.10/velocidad/fps/mpipe_video_fps_results.xlsx\n"
     ]
    }
   ],
   "source": [
    "# Crear un DataFrame con los resultados\n",
    "df_results = pd.DataFrame(results)\n",
    "output_excel_path = os.path.join(os.getenv('BASE_PATH'), os.getenv('MPIPE_SUBPATH'), 'velocidad', 'fps', 'mpipe_video_fps_results.xlsx')\n",
    "df_results.to_excel(output_excel_path, index=False, engine='openpyxl')\n",
    "\n",
    "print(f\"Los resultados se han guardado en {output_excel_path}\")"
   ]
  }
 ],
 "metadata": {
  "kernelspec": {
   "display_name": "mpipe_env",
   "language": "python",
   "name": "python3"
  },
  "language_info": {
   "codemirror_mode": {
    "name": "ipython",
    "version": 3
   },
   "file_extension": ".py",
   "mimetype": "text/x-python",
   "name": "python",
   "nbconvert_exporter": "python",
   "pygments_lexer": "ipython3",
   "version": "3.12.0"
  }
 },
 "nbformat": 4,
 "nbformat_minor": 5
}
