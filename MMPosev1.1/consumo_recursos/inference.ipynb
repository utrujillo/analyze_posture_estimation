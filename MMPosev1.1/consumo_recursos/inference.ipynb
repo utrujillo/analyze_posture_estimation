{
 "cells": [
  {
   "cell_type": "markdown",
   "id": "1bbf10d9",
   "metadata": {},
   "source": [
    "# MPS (Metal Performance Shaders) is a framework for GPU-accelerated image processing\n",
    "and machine learning on Apple platforms. It provides a set of highly optimized"
   ]
  },
  {
   "cell_type": "code",
   "execution_count": null,
   "id": "af76bf9c",
   "metadata": {},
   "outputs": [],
   "source": [
    "import os\n",
    "import importlib , core.evaluator # Importar importlib para recargar módulos\n",
    "import pandas as pd\n",
    "importlib.reload(core.evaluator)\n",
    "from glob import glob\n",
    "from core.evaluator import Evaluator\n",
    "\n",
    "# Configuracion\n",
    "config_file = os.path.join(os.getenv('BASE_PATH'), os.getenv('MMPOSE_SUBPATH'), os.getenv('CONFIG_SUBPATH'))\n",
    "checkpoint_file = os.path.join(os.getenv('BASE_PATH'), os.getenv('MMPOSE_SUBPATH'), os.getenv('CHECKPOINT_SUBPATH'))\n",
    "images_path = os.path.join(os.getenv('BASE_PATH'), os.getenv('IMAGES_SUBPATH'))\n",
    "labels_path = os.path.join(os.getenv('BASE_PATH'), os.getenv('LABELS_SUBPATH'))\n",
    "videos_path = os.path.join(os.getenv('BASE_PATH'), os.getenv('VIDEOS_SUBPATH'))\n",
    "evaluator = Evaluator(os.getenv('BASE_PATH'), images_path, labels_path, videos_path, config_file, checkpoint_file)\n",
    "thresholds = [0.1, 0.5, 0.9]"
   ]
  },
  {
   "cell_type": "markdown",
   "id": "5423390d",
   "metadata": {},
   "source": [
    "# Evaluar CPU, GPU, RAM"
   ]
  },
  {
   "cell_type": "code",
   "execution_count": null,
   "id": "663075f3",
   "metadata": {},
   "outputs": [],
   "source": [
    "image = 'imagen_014_jpg.rf.9b73844fd1a58e6de1dd2cd81aca8dc6.jpg'\n",
    "results = []\n",
    "# Ejecutar pruebas\n",
    "for threshold in thresholds:\n",
    "    # CPU\n",
    "    results = evaluator.run_inference(image, threshold, results, 'cpu')\n",
    "    \n",
    "    # # GPU si está disponible\n",
    "    # try:\n",
    "    #     results = evaluator.run_inference(image, threshold, results, 'gpu')\n",
    "    # except RuntimeError as e:\n",
    "    #     print(f\"  GPU no disponible: {str(e)}\")"
   ]
  },
  {
   "cell_type": "markdown",
   "id": "20c442ae",
   "metadata": {},
   "source": [
    "# Generando XLS"
   ]
  },
  {
   "cell_type": "code",
   "execution_count": null,
   "id": "65a6c044",
   "metadata": {},
   "outputs": [],
   "source": [
    "# Crear un DataFrame con los resultados\n",
    "df_results = pd.DataFrame(results)\n",
    "output_excel_path = os.path.join(os.getenv('BASE_PATH'), os.getenv('MMPOSE_SUBPATH'), 'consumo_recursos', 'mmpose_consumo_results.xlsx')\n",
    "df_results.to_excel(output_excel_path, index=False, engine='openpyxl')\n",
    "\n",
    "print(f\"Los resultados se han guardado en {output_excel_path}\")"
   ]
  },
  {
   "cell_type": "code",
   "execution_count": null,
   "id": "d0aed9c6",
   "metadata": {},
   "outputs": [],
   "source": [
    "df_results.sort_values(by='time', ascending=True)"
   ]
  }
 ],
 "metadata": {
  "kernelspec": {
   "display_name": "mmpose_env",
   "language": "python",
   "name": "python3"
  },
  "language_info": {
   "codemirror_mode": {
    "name": "ipython",
    "version": 3
   },
   "file_extension": ".py",
   "mimetype": "text/x-python",
   "name": "python",
   "nbconvert_exporter": "python",
   "pygments_lexer": "ipython3",
   "version": "3.10.18"
  }
 },
 "nbformat": 4,
 "nbformat_minor": 5
}
