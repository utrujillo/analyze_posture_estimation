{
 "cells": [
  {
   "cell_type": "code",
   "execution_count": null,
   "id": "77246bce",
   "metadata": {},
   "outputs": [],
   "source": [
    "import os\n",
    "import matplotlib.pyplot as plt\n",
    "import importlib , pck, pandas as pd # Importar importlib para recargar módulos\n",
    "from dotenv import load_dotenv\n",
    "\n",
    "dotenv_path = os.path.join(os.getcwd(), '..', '.env')\n",
    "importlib.reload(pck)\n",
    "from pck import PCK\n",
    "\n",
    "# Configuracion\n",
    "images_path = os.path.join(os.getenv('BASE_PATH'), os.getenv('IMAGES_SUBPATH'))\n",
    "labels_path = os.path.join(os.getenv('BASE_PATH'), os.getenv('LABELS_SUBPATH'))\n",
    "evaluator = PCK(os.getenv('BASE_PATH'), images_path, labels_path)\n",
    "thresholds = [0.1, 0.5, 0.9]"
   ]
  },
  {
   "cell_type": "markdown",
   "id": "763e2302",
   "metadata": {},
   "source": [
    "# Evaluando una imagen"
   ]
  },
  {
   "cell_type": "code",
   "execution_count": null,
   "id": "8b37b8e2",
   "metadata": {},
   "outputs": [],
   "source": [
    "image = 'imagen_011_jpg.rf.efc4f6570869d250cc6316a35f6b4b26.jpg'\n",
    "results = []\n",
    "for threshold in thresholds:\n",
    "    results = evaluator.evaluate_image(image, threshold, results)"
   ]
  },
  {
   "cell_type": "markdown",
   "id": "e4c0b8bb",
   "metadata": {},
   "source": [
    "# Evaluando multiples imagenes"
   ]
  },
  {
   "cell_type": "code",
   "execution_count": null,
   "id": "3c64ca98",
   "metadata": {},
   "outputs": [],
   "source": [
    "# Obtener la lista de todas las imágenes en la carpeta\n",
    "image_files = [f for f in os.listdir(images_path) if f.endswith('.jpg')]\n",
    "image_files_sorted = sorted(image_files)\n",
    "results = []\n",
    "\n",
    "for image in image_files_sorted:\n",
    "    for threshold in thresholds:\n",
    "        results = evaluator.evaluate_image(image, threshold, results)"
   ]
  },
  {
   "cell_type": "markdown",
   "id": "5c282803",
   "metadata": {},
   "source": [
    "# Exportando resultados a XLS"
   ]
  },
  {
   "cell_type": "code",
   "execution_count": 3,
   "id": "ffa3df97",
   "metadata": {},
   "outputs": [
    {
     "name": "stdout",
     "output_type": "stream",
     "text": [
      "Los resultados se han guardado en /Users/apple/Documents/pose_estimation/MediaPipev0.10/precision/PCK/mpipe_pck_results.xlsx\n"
     ]
    }
   ],
   "source": [
    "# Crear un DataFrame con los resultados\n",
    "df_results = pd.DataFrame(results)\n",
    "output_excel_path = os.path.join(os.getenv('BASE_PATH'), os.getenv('MPIPE_SUBPATH'), 'precision', 'PCK', 'mpipe_pck_results.xlsx')\n",
    "df_results.to_excel(output_excel_path, index=False, engine='openpyxl')\n",
    "\n",
    "print(f\"Los resultados se han guardado en {output_excel_path}\")"
   ]
  }
 ],
 "metadata": {
  "kernelspec": {
   "display_name": "mpipe_env",
   "language": "python",
   "name": "python3"
  },
  "language_info": {
   "codemirror_mode": {
    "name": "ipython",
    "version": 3
   },
   "file_extension": ".py",
   "mimetype": "text/x-python",
   "name": "python",
   "nbconvert_exporter": "python",
   "pygments_lexer": "ipython3",
   "version": "3.12.0"
  }
 },
 "nbformat": 4,
 "nbformat_minor": 5
}
