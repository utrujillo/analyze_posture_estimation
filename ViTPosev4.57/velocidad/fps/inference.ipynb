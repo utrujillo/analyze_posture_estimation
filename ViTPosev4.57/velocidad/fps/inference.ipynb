{
 "cells": [
  {
   "cell_type": "code",
   "execution_count": 1,
   "id": "af76bf9c",
   "metadata": {},
   "outputs": [
    {
     "name": "stderr",
     "output_type": "stream",
     "text": [
      "/Users/apple/Documents/pose_estimation/ViTPosev4.57/vitpose_env/lib/python3.11/site-packages/tqdm/auto.py:21: TqdmWarning: IProgress not found. Please update jupyter and ipywidgets. See https://ipywidgets.readthedocs.io/en/stable/user_install.html\n",
      "  from .autonotebook import tqdm as notebook_tqdm\n"
     ]
    },
    {
     "name": "stdout",
     "output_type": "stream",
     "text": [
      "Cargando modelos ViTPose y RTDetr...\n"
     ]
    },
    {
     "name": "stderr",
     "output_type": "stream",
     "text": [
      "`use_fast` is set to `True` but the image processor class does not have a fast version.  Falling back to the slow version.\n"
     ]
    }
   ],
   "source": [
    "import os\n",
    "import importlib , evaluator, pandas as pd # Importar importlib para recargar módulos\n",
    "from dotenv import load_dotenv\n",
    "\n",
    "dotenv_path = os.path.join(os.getcwd(), '..', '.env')\n",
    "importlib.reload(evaluator)\n",
    "from evaluator import Evaluator\n",
    "\n",
    "# Configuracion\n",
    "detector_path = os.path.join(os.getenv('BASE_PATH'), os.getenv('VITPOSE_SUBPATH'), os.getenv('DETECTOR_SUBPATH'))\n",
    "estimator_path = os.path.join(os.getenv('BASE_PATH'), os.getenv('VITPOSE_SUBPATH'), os.getenv('POSE_SUBPATH'))\n",
    "images_path = os.path.join(os.getenv('BASE_PATH'), os.getenv('IMAGES_SUBPATH'))\n",
    "labels_path = os.path.join(os.getenv('BASE_PATH'), os.getenv('LABELS_SUBPATH'))\n",
    "videos_path = os.path.join(os.getenv('BASE_PATH'), os.getenv('VIDEOS_SUBPATH'))\n",
    "evaluator = Evaluator(os.getenv('BASE_PATH'), images_path, labels_path, videos_path, detector_path, estimator_path)\n",
    "thresholds = [0.1, 0.5, 0.9]"
   ]
  },
  {
   "cell_type": "markdown",
   "id": "5423390d",
   "metadata": {},
   "source": [
    "# Evaluar FPS usando la CPU"
   ]
  },
  {
   "cell_type": "code",
   "execution_count": 2,
   "id": "663075f3",
   "metadata": {},
   "outputs": [],
   "source": [
    "image = 'imagen_014_jpg.rf.9b73844fd1a58e6de1dd2cd81aca8dc6.jpg'\n",
    "results = []\n",
    "for threshold in thresholds:\n",
    "    results = evaluator.on_cpu(image, threshold, results)"
   ]
  },
  {
   "cell_type": "markdown",
   "id": "fb2bf26e",
   "metadata": {},
   "source": [
    "# Evaluar FPS usando la CPU de multiples imagenes"
   ]
  },
  {
   "cell_type": "code",
   "execution_count": 3,
   "id": "e65511a1",
   "metadata": {},
   "outputs": [],
   "source": [
    "# Obtener la lista de todas las imágenes en la carpeta\n",
    "image_files = [f for f in os.listdir(images_path) if f.endswith('.jpg')]\n",
    "image_files_sorted = sorted(image_files)\n",
    "results = []\n",
    "\n",
    "for image in image_files_sorted:\n",
    "    for threshold in thresholds:\n",
    "        results = evaluator.on_cpu(image, threshold, results)"
   ]
  },
  {
   "cell_type": "markdown",
   "id": "20c442ae",
   "metadata": {},
   "source": [
    "# Generando XLS"
   ]
  },
  {
   "cell_type": "code",
   "execution_count": 4,
   "id": "65a6c044",
   "metadata": {},
   "outputs": [
    {
     "name": "stdout",
     "output_type": "stream",
     "text": [
      "Los resultados se han guardado en /Users/apple/Documents/pose_estimation/ViTPosev4.57/velocidad/fps/vitpose_fps_results.xlsx\n"
     ]
    }
   ],
   "source": [
    "# Crear un DataFrame con los resultados\n",
    "df_results = pd.DataFrame(results)\n",
    "output_excel_path = os.path.join(os.getenv('BASE_PATH'), os.getenv('VITPOSE_SUBPATH'), 'velocidad', 'fps', 'vitpose_fps_results.xlsx')\n",
    "df_results.to_excel(output_excel_path, index=False, engine='openpyxl')\n",
    "\n",
    "print(f\"Los resultados se han guardado en {output_excel_path}\")"
   ]
  }
 ],
 "metadata": {
  "kernelspec": {
   "display_name": "vitpose_env",
   "language": "python",
   "name": "python3"
  },
  "language_info": {
   "codemirror_mode": {
    "name": "ipython",
    "version": 3
   },
   "file_extension": ".py",
   "mimetype": "text/x-python",
   "name": "python",
   "nbconvert_exporter": "python",
   "pygments_lexer": "ipython3",
   "version": "3.11.13"
  }
 },
 "nbformat": 4,
 "nbformat_minor": 5
}
