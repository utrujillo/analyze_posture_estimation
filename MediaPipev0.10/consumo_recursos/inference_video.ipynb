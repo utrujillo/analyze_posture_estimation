{
 "cells": [
  {
   "cell_type": "markdown",
   "id": "1bbf10d9",
   "metadata": {},
   "source": [
    "# MPS (Metal Performance Shaders) is a framework for GPU-accelerated image processing\n",
    "and machine learning on Apple platforms. It provides a set of highly optimized"
   ]
  },
  {
   "cell_type": "code",
   "execution_count": null,
   "id": "af76bf9c",
   "metadata": {},
   "outputs": [
    {
     "name": "stderr",
     "output_type": "stream",
     "text": [
      "WARNING: All log messages before absl::InitializeLog() is called are written to STDERR\n",
      "I0000 00:00:1761706026.514207  127975 gl_context.cc:369] GL version: 2.1 (2.1 ATI-4.10.12), renderer: AMD Radeon Pro 5300M OpenGL Engine\n"
     ]
    },
    {
     "name": "stderr",
     "output_type": "stream",
     "text": [
      "INFO: Created TensorFlow Lite XNNPACK delegate for CPU.\n",
      "W0000 00:00:1761706026.688346  128689 inference_feedback_manager.cc:114] Feedback manager requires a model with a single signature inference. Disabling support for feedback tensors.\n",
      "W0000 00:00:1761706026.723543  128690 inference_feedback_manager.cc:114] Feedback manager requires a model with a single signature inference. Disabling support for feedback tensors.\n"
     ]
    }
   ],
   "source": [
    "import os\n",
    "import importlib , core.evaluator \n",
    "from dotenv import load_dotenv\n",
    "\n",
    "dotenv_path = os.path.join(os.getcwd(), '..', '.env')\n",
    "import pandas as pd\n",
    "importlib.reload(core.evaluator)\n",
    "from glob import glob\n",
    "from core.evaluator import Evaluator\n",
    "\n",
    "# Configuracion\n",
    "images_path = os.path.join(os.getenv('BASE_PATH'), os.getenv('IMAGES_SUBPATH'))\n",
    "labels_path = os.path.join(os.getenv('BASE_PATH'), os.getenv('LABELS_SUBPATH'))\n",
    "videos_path = os.path.join(os.getenv('BASE_PATH'), os.getenv('VIDEOS_SUBPATH'))\n",
    "evaluator = Evaluator(os.getenv('BASE_PATH'), images_path, labels_path, videos_path)\n",
    "thresholds = [0.1, 0.5, 0.9]"
   ]
  },
  {
   "cell_type": "markdown",
   "id": "05c9733c",
   "metadata": {},
   "source": [
    "# Evaluar un video"
   ]
  },
  {
   "cell_type": "code",
   "execution_count": 2,
   "id": "efdc72ec",
   "metadata": {},
   "outputs": [
    {
     "name": "stderr",
     "output_type": "stream",
     "text": [
      "CPU: ejercicio01 - frente.mp4:   0%|          | 0/175 [00:00<?, ?frame/s]W0000 00:00:1761706031.066050  128692 landmark_projection_calculator.cc:186] Using NORM_RECT without IMAGE_DIMENSIONS is only supported for the square ROI. Provide IMAGE_DIMENSIONS or use PROJECTION_MATRIX.\n",
      "CPU: ejercicio01 - frente.mp4: 100%|██████████| 175/175 [00:57<00:00,  3.04frame/s]\n",
      "CPU: ejercicio01 - frente.mp4: 100%|██████████| 175/175 [00:55<00:00,  3.16frame/s]\n",
      "CPU: ejercicio01 - frente.mp4: 100%|██████████| 175/175 [00:55<00:00,  3.14frame/s]\n"
     ]
    }
   ],
   "source": [
    "video = 'ejercicio01 - frente.mp4'\n",
    "video_path = os.path.join('uziel', 'ejercicio01', 'conLuz', video)\n",
    "\n",
    "results = []\n",
    "for threshold in thresholds:\n",
    "    results = evaluator.run_video_inference(\n",
    "        videos_path=video_path,\n",
    "        threshold=threshold,\n",
    "        results=results,\n",
    "        device_type='cpu',\n",
    "        frame_skip=5\n",
    "    )"
   ]
  },
  {
   "cell_type": "markdown",
   "id": "641e24ba",
   "metadata": {},
   "source": [
    "# Evaluar una carpeta con todos los videos en su interior, CPU, GPU y RAM"
   ]
  },
  {
   "cell_type": "code",
   "execution_count": null,
   "id": "9e901f14",
   "metadata": {},
   "outputs": [],
   "source": [
    "# video = 'ejercicio01 - frente.mp4'\n",
    "# folder_path = os.path.join(videos_path, 'uziel', 'ejercicio01', 'conLuz')\n",
    "folder_path = os.path.join(videos_path, 'uziel')\n",
    "video_extensions = ['*.mp4', '*.avi', '*.mov']\n",
    "video_files = []\n",
    "results = []\n",
    "\n",
    "for ext in video_extensions:\n",
    "    video_files.extend(glob(os.path.join(folder_path, '**', ext), recursive=True))\n",
    "\n",
    "for video_path in video_files:\n",
    "    for threshold in thresholds:\n",
    "        results = evaluator.run_video_inference(\n",
    "            videos_path=video_path,\n",
    "            threshold=threshold,\n",
    "            results=results,\n",
    "            device_type='cpu',\n",
    "            frame_skip=5\n",
    "        )"
   ]
  },
  {
   "cell_type": "markdown",
   "id": "20c442ae",
   "metadata": {},
   "source": [
    "# Generando XLS"
   ]
  },
  {
   "cell_type": "code",
   "execution_count": 3,
   "id": "65a6c044",
   "metadata": {},
   "outputs": [
    {
     "name": "stdout",
     "output_type": "stream",
     "text": [
      "Los resultados se han guardado en /Users/apple/Documents/pose_estimation/MediaPipev0.10/consumo_recursos/mpipe_video_consumo_results.xlsx\n"
     ]
    }
   ],
   "source": [
    "# Crear un DataFrame con los resultados\n",
    "df_results = pd.DataFrame(results)\n",
    "output_excel_path = os.path.join(os.getenv('BASE_PATH'), os.getenv('MPIPE_SUBPATH'), 'consumo_recursos', 'mpipe_video_consumo_results.xlsx')\n",
    "df_results.to_excel(output_excel_path, index=False, engine='openpyxl')\n",
    "\n",
    "print(f\"Los resultados se han guardado en {output_excel_path}\")"
   ]
  }
 ],
 "metadata": {
  "kernelspec": {
   "display_name": "mpipe_env",
   "language": "python",
   "name": "python3"
  },
  "language_info": {
   "codemirror_mode": {
    "name": "ipython",
    "version": 3
   },
   "file_extension": ".py",
   "mimetype": "text/x-python",
   "name": "python",
   "nbconvert_exporter": "python",
   "pygments_lexer": "ipython3",
   "version": "3.12.0"
  }
 },
 "nbformat": 4,
 "nbformat_minor": 5
}
