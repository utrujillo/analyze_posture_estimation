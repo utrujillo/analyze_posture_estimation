{
 "cells": [
  {
   "cell_type": "code",
   "execution_count": 1,
   "id": "769ad89b",
   "metadata": {},
   "outputs": [
    {
     "name": "stdout",
     "output_type": "stream",
     "text": [
      "  tipo                     video  frame image_size  threshold      time        fps\n",
      "0  cpu  ejercicio01 - frente.mp4      0    480x864        0.1  1.466536   0.681879\n",
      "1  cpu  ejercicio01 - frente.mp4      5    480x864        0.1  0.067174  14.886721\n",
      "2  cpu  ejercicio01 - frente.mp4     10    480x864        0.1  0.067836  14.741425\n",
      "3  cpu  ejercicio01 - frente.mp4     15    480x864        0.1  0.065288  15.316735\n",
      "4  cpu  ejercicio01 - frente.mp4     20    480x864        0.1  0.063899  15.649746\n"
     ]
    }
   ],
   "source": [
    "import pandas as pd\n",
    "import matplotlib.pyplot as plt\n",
    "import seaborn as sns\n",
    "import numpy as np\n",
    "\n",
    "data = pd.read_excel('video_fps_results.xlsx')\n",
    "\n",
    "print(data.head().to_string())\n",
    "df = pd.DataFrame(data)"
   ]
  },
  {
   "cell_type": "markdown",
   "id": "ed875221",
   "metadata": {},
   "source": [
    "# Histogramas"
   ]
  },
  {
   "cell_type": "code",
   "execution_count": 2,
   "id": "58de187f",
   "metadata": {},
   "outputs": [
    {
     "name": "stderr",
     "output_type": "stream",
     "text": [
      "/var/folders/jf/mtmp9vvj5qdfvc_x4zl5yz7m0000gn/T/ipykernel_48548/139657618.py:16: FutureWarning: \n",
      "\n",
      "Passing `palette` without assigning `hue` is deprecated and will be removed in v0.14.0. Assign the `x` variable to `hue` and set `legend=False` for the same effect.\n",
      "\n",
      "  ax = sns.boxplot(\n"
     ]
    },
    {
     "data": {
      "image/png": "[encoded data removed]",
      "text/plain": [
       "<Figure size 370x300 with 1 Axes>"
      ]
     },
     "metadata": {},
     "output_type": "display_data"
    }
   ],
   "source": [
    "# Filtrar datos de CPU\n",
    "df_cpu = df[df['tipo'] == 'cpu']\n",
    "\n",
    "plt.figure(figsize=(3.7, 3))  # Aumentar tamaño para mejor legibilidad\n",
    "\n",
    "# Configurar el tamaño de fuente global\n",
    "plt.rcParams.update({\n",
    "    'font.size': 10,\n",
    "    'axes.titlesize': 10,\n",
    "    'axes.labelsize': 10,\n",
    "    'xtick.labelsize': 10,\n",
    "    'ytick.labelsize': 10\n",
    "})\n",
    "\n",
    "# Boxplot para FPS\n",
    "ax = sns.boxplot(\n",
    "    data=df_cpu,\n",
    "    x='threshold',\n",
    "    y='fps',\n",
    "    showmeans=True,\n",
    "    meanprops={'marker':'o', 'markerfacecolor':'white', 'markeredgecolor':'black', 'markersize':10},\n",
    "    palette='Blues'\n",
    ")\n",
    "\n",
    "# Personalización del gráfico\n",
    "plt.xlabel('Threshold')\n",
    "plt.ylabel('Frames Per Second (FPS) - CPU')\n",
    "plt.grid(axis='y', linestyle='--', alpha=0.3)\n",
    "\n",
    "# Calcular estadísticas para cada threshold\n",
    "fps_stats = df_cpu.groupby('threshold')['fps'].agg(['count', 'mean', 'std'])\n",
    "\n",
    "# Añadir anotaciones de estadísticas\n",
    "for i, threshold in enumerate(fps_stats.index):\n",
    "    plt.text(\n",
    "        i, df_cpu['fps'].max() * 1.08,  # Posición ajustada al máximo FPS\n",
    "        f\"n={int(fps_stats.loc[threshold, 'count'])}\\nμ={fps_stats.loc[threshold, 'mean']:.1f} ± {fps_stats.loc[threshold, 'std']:.1f}\",\n",
    "        ha='center',\n",
    "        fontsize=8,\n",
    "        bbox=dict(facecolor='white', alpha=0.8, edgecolor='gray', boxstyle='round,pad=0.5')\n",
    "    )\n",
    "\n",
    "# Añadir línea horizontal de referencia (opcional)\n",
    "max_fps = df_cpu['fps'].max()\n",
    "plt.axhline(y=max_fps, color='green', linestyle=':', alpha=0.5, label='Máximo observado')\n",
    "plt.legend(loc='lower right')\n",
    "\n",
    "plt.tight_layout()\n",
    "plt.show()"
   ]
  },
  {
   "cell_type": "code",
   "execution_count": null,
   "id": "d4241439",
   "metadata": {},
   "outputs": [],
   "source": [
    "# Filtrar datos de CPU\n",
    "df_cpu = df[df['tipo'] == 'cpu']\n",
    "\n",
    "# Histograma\n",
    "plt.figure(figsize=(10, 6))\n",
    "sns.histplot(df_cpu['fps'], bins=15, kde=True, color='skyblue', edgecolor='black')\n",
    "plt.title('Distribución de FPS en CPU', fontweight='bold', fontsize=14)\n",
    "plt.xlabel('FPS', fontsize=12)\n",
    "plt.ylabel('Frecuencia', fontsize=12)\n",
    "plt.grid(axis='y', linestyle='--', alpha=0.7)\n",
    "plt.show()"
   ]
  },
  {
   "cell_type": "code",
   "execution_count": null,
   "id": "1a0d4214",
   "metadata": {},
   "outputs": [],
   "source": [
    "# Filtrar datos de MPS\n",
    "df_mps = df[df['tipo'] == 'mps']\n",
    "\n",
    "# Histograma\n",
    "plt.figure(figsize=(10, 6))\n",
    "sns.histplot(df_mps['fps'], bins=15, kde=True, color='salmon', edgecolor='black')\n",
    "plt.title('Distribución de FPS en MPS (GPU Apple)', fontweight='bold', fontsize=14)\n",
    "plt.xlabel('FPS', fontsize=12)\n",
    "plt.ylabel('Frecuencia', fontsize=12)\n",
    "plt.grid(axis='y', linestyle='--', alpha=0.7)\n",
    "plt.show()"
   ]
  },
  {
   "cell_type": "code",
   "execution_count": null,
   "id": "e73e7d1c",
   "metadata": {},
   "outputs": [],
   "source": [
    "ap_stats = df.groupby('threshold')['fps'].describe()\n",
    "print(ap_stats.to_string())"
   ]
  },
  {
   "cell_type": "code",
   "execution_count": null,
   "id": "640fdf4d",
   "metadata": {},
   "outputs": [],
   "source": [
    "# Filtrar datos de CPU\n",
    "df_cpu = df[df['tipo'] == 'mps']\n",
    "\n",
    "plt.figure(figsize=(3.7, 3))  # Aumentar tamaño para mejor legibilidad\n",
    "\n",
    "# Configurar el tamaño de fuente global\n",
    "plt.rcParams.update({\n",
    "    'font.size': 10,\n",
    "    'axes.titlesize': 10,\n",
    "    'axes.labelsize': 10,\n",
    "    'xtick.labelsize': 10,\n",
    "    'ytick.labelsize': 10\n",
    "})\n",
    "\n",
    "# Boxplot para FPS\n",
    "ax = sns.boxplot(\n",
    "    data=df_cpu,\n",
    "    x='threshold',\n",
    "    y='fps',\n",
    "    showmeans=True,\n",
    "    meanprops={'marker':'o', 'markerfacecolor':'white', 'markeredgecolor':'black', 'markersize':10},\n",
    "    palette='deep'\n",
    ")\n",
    "\n",
    "# Personalización del gráfico\n",
    "plt.xlabel('Threshold')\n",
    "plt.ylabel('Frames Per Second (FPS) - GPU')\n",
    "plt.grid(axis='y', linestyle='--', alpha=0.3)\n",
    "\n",
    "# Calcular estadísticas para cada threshold\n",
    "fps_stats = df_cpu.groupby('threshold')['fps'].agg(['count', 'mean', 'std'])\n",
    "\n",
    "# Añadir anotaciones de estadísticas\n",
    "for i, threshold in enumerate(fps_stats.index):\n",
    "    plt.text(\n",
    "        i, df_cpu['fps'].max() * 1.08,  # Posición ajustada al máximo FPS\n",
    "        f\"n={int(fps_stats.loc[threshold, 'count'])}\\nμ={fps_stats.loc[threshold, 'mean']:.1f} ± {fps_stats.loc[threshold, 'std']:.1f}\",\n",
    "        ha='center',\n",
    "        fontsize=8,\n",
    "        bbox=dict(facecolor='white', alpha=0.8, edgecolor='gray', boxstyle='round,pad=0.5')\n",
    "    )\n",
    "\n",
    "# Añadir línea horizontal de referencia (opcional)\n",
    "max_fps = df_cpu['fps'].max()\n",
    "plt.axhline(y=max_fps, color='green', linestyle=':', alpha=0.5, label='Máximo observado')\n",
    "plt.legend(loc='lower right')\n",
    "\n",
    "plt.tight_layout()\n",
    "plt.show()"
   ]
  }
 ],
 "metadata": {
  "kernelspec": {
   "display_name": "yolov8",
   "language": "python",
   "name": "python3"
  },
  "language_info": {
   "codemirror_mode": {
    "name": "ipython",
    "version": 3
   },
   "file_extension": ".py",
   "mimetype": "text/x-python",
   "name": "python",
   "nbconvert_exporter": "python",
   "pygments_lexer": "ipython3",
   "version": "3.12.0"
  }
 },
 "nbformat": 4,
 "nbformat_minor": 5
}
