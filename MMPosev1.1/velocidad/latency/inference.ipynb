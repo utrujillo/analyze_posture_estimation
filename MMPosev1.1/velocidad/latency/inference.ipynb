{
 "cells": [
  {
   "cell_type": "markdown",
   "id": "618515b1",
   "metadata": {},
   "source": [
    "# Latencia\n",
    "Tiempo que tarda un modelo en procesar una entrada y generar una prediccion"
   ]
  },
  {
   "cell_type": "code",
   "execution_count": 1,
   "id": "318b8d78",
   "metadata": {},
   "outputs": [
    {
     "name": "stderr",
     "output_type": "stream",
     "text": [
      "/Users/apple/Documents/pose_estimation/MMPosev1.1/mmpose_env/lib/python3.10/site-packages/mmcv/cnn/bricks/transformer.py:33: UserWarning: Fail to import ``MultiScaleDeformableAttention`` from ``mmcv.ops.multi_scale_deform_attn``, You should install ``mmcv`` rather than ``mmcv-lite`` if you need this module. \n",
      "  warnings.warn('Fail to import ``MultiScaleDeformableAttention`` from '\n"
     ]
    },
    {
     "name": "stdout",
     "output_type": "stream",
     "text": [
      "Loads checkpoint by local backend from path: /Users/apple/Documents/pose_estimation/MMPosev1.1/configs/model_weights/hrnet_w32_coco_256x192-c78dce93_20200708.pth\n"
     ]
    },
    {
     "name": "stderr",
     "output_type": "stream",
     "text": [
      "/Users/apple/Documents/pose_estimation/MMPosev1.1/mmpose_env/lib/python3.10/site-packages/mmpose/datasets/datasets/utils.py:102: UserWarning: The metainfo config file \"configs/_base_/datasets/coco.py\" does not exist. A matched config file \"/Users/apple/Documents/pose_estimation/MMPosev1.1/mmpose_env/lib/python3.10/site-packages/mmpose/.mim/configs/_base_/datasets/coco.py\" will be used instead.\n",
      "  warnings.warn(\n"
     ]
    }
   ],
   "source": [
    "import os, time\n",
    "import importlib , latency, pandas as pd # Importar importlib para recargar módulos\n",
    "from dotenv import load_dotenv\n",
    "\n",
    "dotenv_path = os.path.join(os.getcwd(), '..', '.env')\n",
    "importlib.reload(latency)\n",
    "from glob import glob\n",
    "from latency import Latency\n",
    "\n",
    "# Configuracion\n",
    "config_file = os.path.join(os.getenv('BASE_PATH'), os.getenv('MMPOSE_SUBPATH'), os.getenv('CONFIG_SUBPATH'))\n",
    "checkpoint_file = os.path.join(os.getenv('BASE_PATH'), os.getenv('MMPOSE_SUBPATH'), os.getenv('CHECKPOINT_SUBPATH'))\n",
    "images_path = os.path.join(os.getenv('BASE_PATH'), os.getenv('IMAGES_SUBPATH'))\n",
    "labels_path = os.path.join(os.getenv('BASE_PATH'), os.getenv('LABELS_SUBPATH'))\n",
    "videos_path = os.path.join(os.getenv('BASE_PATH'), os.getenv('VIDEOS_SUBPATH'))\n",
    "evaluator = Latency(os.getenv('BASE_PATH'), images_path, labels_path, videos_path, config_file, checkpoint_file)\n",
    "thresholds = [0.1, 0.5, 0.9]"
   ]
  },
  {
   "cell_type": "markdown",
   "id": "94dcf196",
   "metadata": {},
   "source": [
    "# Calculo de latencia en fotografias (1 imagen)\n"
   ]
  },
  {
   "cell_type": "code",
   "execution_count": 2,
   "id": "59b409a4",
   "metadata": {},
   "outputs": [],
   "source": [
    "image = 'imagen_014_jpg.rf.9b73844fd1a58e6de1dd2cd81aca8dc6.jpg'\n",
    "results = []\n",
    "for threshold in thresholds:\n",
    "    results = evaluator.evaluate_image(image, threshold, results)"
   ]
  },
  {
   "cell_type": "markdown",
   "id": "5b0e46d8",
   "metadata": {},
   "source": [
    "# Calculo de latencia en fotografias (muchas)"
   ]
  },
  {
   "cell_type": "code",
   "execution_count": 2,
   "id": "b208af7b",
   "metadata": {},
   "outputs": [],
   "source": [
    "# Obtener la lista de todas las imágenes en la carpeta\n",
    "image_files = [f for f in os.listdir(images_path) if f.endswith('.jpg')]\n",
    "image_files_sorted = sorted(image_files)\n",
    "results = []\n",
    "\n",
    "for image in image_files_sorted:\n",
    "    for threshold in thresholds:\n",
    "        results = evaluator.evaluate_image(image, threshold, results)"
   ]
  },
  {
   "cell_type": "markdown",
   "id": "35c04c00",
   "metadata": {},
   "source": [
    "# Generando XLS"
   ]
  },
  {
   "cell_type": "code",
   "execution_count": 3,
   "id": "b86acc5b",
   "metadata": {},
   "outputs": [
    {
     "name": "stdout",
     "output_type": "stream",
     "text": [
      "<bound method DataFrame.to_string of                                                image image_size  threshold  \\\n",
      "0  imagen_002_jpg.rf.39766b197a04d8d1569b3e546fd0...    144x256        0.1   \n",
      "1  imagen_002_jpg.rf.39766b197a04d8d1569b3e546fd0...    144x256        0.5   \n",
      "2  imagen_002_jpg.rf.39766b197a04d8d1569b3e546fd0...    144x256        0.9   \n",
      "3  imagen_003_jpg.rf.212077a70b1de84df04262b03db5...    147x256        0.1   \n",
      "4  imagen_003_jpg.rf.212077a70b1de84df04262b03db5...    147x256        0.5   \n",
      "\n",
      "      latency  \n",
      "0  268.116951  \n",
      "1  232.179880  \n",
      "2  234.758139  \n",
      "3  234.201193  \n",
      "4  249.929905  >\n",
      "Los resultados se han guardado en /Users/apple/Documents/pose_estimation/MMPosev1.1/velocidad/latency/mmpose_latency_results.xlsx\n"
     ]
    }
   ],
   "source": [
    "df_results = pd.DataFrame(results)\n",
    "print(df_results.head().to_string)\n",
    "output_excel_path = os.path.join(os.getenv('BASE_PATH'), os.getenv('MMPOSE_SUBPATH'), 'velocidad', 'latency', 'mmpose_latency_results.xlsx')\n",
    "df_results.to_excel(output_excel_path, index=False, engine='openpyxl')\n",
    "\n",
    "print(f\"Los resultados se han guardado en {output_excel_path}\")"
   ]
  },
  {
   "cell_type": "markdown",
   "id": "864635cd",
   "metadata": {},
   "source": [
    "# Calculo de latencia en un video"
   ]
  },
  {
   "cell_type": "code",
   "execution_count": 5,
   "id": "f962afbd",
   "metadata": {},
   "outputs": [
    {
     "name": "stderr",
     "output_type": "stream",
     "text": [
      "Procesando ejercicio01 - frente.mp4: 100%|██████████| 175/175 [00:08<00:00, 20.12it/s]\n",
      "Procesando ejercicio01 - frente.mp4: 100%|██████████| 175/175 [00:08<00:00, 19.79it/s]\n",
      "Procesando ejercicio01 - frente.mp4: 100%|██████████| 175/175 [00:08<00:00, 19.95it/s]\n"
     ]
    }
   ],
   "source": [
    "video = 'ejercicio01 - frente.mp4'\n",
    "video_path = os.path.join(videos_path, 'uziel', 'ejercicio01', 'conLuz', video)\n",
    "results = []\n",
    "\n",
    "for threshold in thresholds:\n",
    "    results = evaluator.evaluate_video(\n",
    "        videos_path=video_path, \n",
    "        threshold=threshold, \n",
    "        results=results,\n",
    "        frame_skip=5,\n",
    "    )"
   ]
  },
  {
   "cell_type": "markdown",
   "id": "f7698d3a",
   "metadata": {},
   "source": [
    "# Calculo de latencia en videos dentro de una carpeta"
   ]
  },
  {
   "cell_type": "code",
   "execution_count": null,
   "id": "e5350ef3",
   "metadata": {},
   "outputs": [],
   "source": [
    "\n",
    "folder_path = os.path.join(videos_path, 'uziel')\n",
    "video_extensions = ['*.mp4', '*.avi', '*.mov']\n",
    "video_files = []\n",
    "results = []\n",
    "\n",
    "for ext in video_extensions:\n",
    "    video_files.extend(glob(os.path.join(folder_path, '**', ext), recursive=True))\n",
    "\n",
    "for video_path in video_files:\n",
    "    for threshold in thresholds:\n",
    "        results = evaluator.evaluate_video(\n",
    "            videos_path=video_path, \n",
    "            threshold=threshold, \n",
    "            results=results,\n",
    "            frame_skip=5,\n",
    "        )"
   ]
  },
  {
   "cell_type": "markdown",
   "id": "e1d3610a",
   "metadata": {},
   "source": [
    "# Generando XLS de los resultados de los videos"
   ]
  },
  {
   "cell_type": "code",
   "execution_count": 6,
   "id": "7bb2d436",
   "metadata": {},
   "outputs": [
    {
     "name": "stdout",
     "output_type": "stream",
     "text": [
      "<bound method DataFrame.to_string of                       video video_resolution  threshold  video_fps  \\\n",
      "0  ejercicio01 - frente.mp4          480x864        0.1  30.016466   \n",
      "1  ejercicio01 - frente.mp4          480x864        0.1  30.016466   \n",
      "2  ejercicio01 - frente.mp4          480x864        0.1  30.016466   \n",
      "3  ejercicio01 - frente.mp4          480x864        0.1  30.016466   \n",
      "4  ejercicio01 - frente.mp4          480x864        0.1  30.016466   \n",
      "\n",
      "   frame_skip  latency_ms  processed_frames  total_frames  \n",
      "0           5  250.088930                 1           175  \n",
      "1           5  239.281178                 2           175  \n",
      "2           5  251.007080                 3           175  \n",
      "3           5  288.485765                 4           175  \n",
      "4           5  263.056993                 5           175  >\n",
      "Los resultados se han guardado en /Users/apple/Documents/uziel/MMPosev1.1/latency/video_latency_results.xlsx\n"
     ]
    }
   ],
   "source": [
    "df_results = pd.DataFrame(results)\n",
    "print(df_results.head().to_string)\n",
    "output_excel_path = os.path.join(os.getenv('BASE_PATH'), os.getenv('MMPOSE_SUBPATH'), 'latency', 'video_latency_results.xlsx')\n",
    "df_results.to_excel(output_excel_path, index=False, engine='openpyxl')\n",
    "\n",
    "print(f\"Los resultados se han guardado en {output_excel_path}\")"
   ]
  }
 ],
 "metadata": {
  "kernelspec": {
   "display_name": "mmpose_env",
   "language": "python",
   "name": "python3"
  },
  "language_info": {
   "codemirror_mode": {
    "name": "ipython",
    "version": 3
   },
   "file_extension": ".py",
   "mimetype": "text/x-python",
   "name": "python",
   "nbconvert_exporter": "python",
   "pygments_lexer": "ipython3",
   "version": "3.10.18"
  }
 },
 "nbformat": 4,
 "nbformat_minor": 5
}
