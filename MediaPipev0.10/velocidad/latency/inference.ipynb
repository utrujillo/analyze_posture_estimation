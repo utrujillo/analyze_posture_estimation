{
 "cells": [
  {
   "cell_type": "markdown",
   "id": "618515b1",
   "metadata": {},
   "source": [
    "# Latencia\n",
    "Tiempo que tarda un modelo en procesar una entrada y generar una prediccion"
   ]
  },
  {
   "cell_type": "code",
   "execution_count": null,
   "id": "318b8d78",
   "metadata": {},
   "outputs": [
    {
     "name": "stderr",
     "output_type": "stream",
     "text": [
      "WARNING: All log messages before absl::InitializeLog() is called are written to STDERR\n",
      "I0000 00:00:1761702127.586886   83109 gl_context.cc:369] GL version: 2.1 (2.1 ATI-4.10.12), renderer: AMD Radeon Pro 5300M OpenGL Engine\n"
     ]
    },
    {
     "name": "stderr",
     "output_type": "stream",
     "text": [
      "INFO: Created TensorFlow Lite XNNPACK delegate for CPU.\n",
      "W0000 00:00:1761702127.762911   83238 inference_feedback_manager.cc:114] Feedback manager requires a model with a single signature inference. Disabling support for feedback tensors.\n",
      "W0000 00:00:1761702127.895487   83238 inference_feedback_manager.cc:114] Feedback manager requires a model with a single signature inference. Disabling support for feedback tensors.\n"
     ]
    }
   ],
   "source": [
    "import os, time\n",
    "import importlib , latency, pandas as pd # Importar importlib para recargar módulos\n",
    "from dotenv import load_dotenv\n",
    "\n",
    "dotenv_path = os.path.join(os.getcwd(), '..', '.env')\n",
    "importlib.reload(latency)\n",
    "from glob import glob\n",
    "from latency import Latency\n",
    "\n",
    "# Configuracion\n",
    "images_path = os.path.join(os.getenv('BASE_PATH'), os.getenv('IMAGES_SUBPATH'))\n",
    "labels_path = os.path.join(os.getenv('BASE_PATH'), os.getenv('LABELS_SUBPATH'))\n",
    "videos_path = os.path.join(os.getenv('BASE_PATH'), os.getenv('VIDEOS_SUBPATH'))\n",
    "evaluator = Latency(os.getenv('BASE_PATH'), images_path, labels_path, videos_path)\n",
    "thresholds = [0.1, 0.5, 0.9]"
   ]
  },
  {
   "cell_type": "markdown",
   "id": "94dcf196",
   "metadata": {},
   "source": [
    "# Calculo de latencia en fotografias (1 imagen)\n"
   ]
  },
  {
   "cell_type": "code",
   "execution_count": null,
   "id": "59b409a4",
   "metadata": {},
   "outputs": [],
   "source": [
    "image = 'imagen_014_jpg.rf.9b73844fd1a58e6de1dd2cd81aca8dc6.jpg'\n",
    "results = []\n",
    "for threshold in thresholds:\n",
    "    results = evaluator.evaluate_image(image, threshold, results)"
   ]
  },
  {
   "cell_type": "markdown",
   "id": "5b0e46d8",
   "metadata": {},
   "source": [
    "# Calculo de latencia en fotografias (muchas)"
   ]
  },
  {
   "cell_type": "code",
   "execution_count": 2,
   "id": "b208af7b",
   "metadata": {},
   "outputs": [
    {
     "name": "stderr",
     "output_type": "stream",
     "text": [
      "W0000 00:00:1761702141.333996   83229 landmark_projection_calculator.cc:186] Using NORM_RECT without IMAGE_DIMENSIONS is only supported for the square ROI. Provide IMAGE_DIMENSIONS or use PROJECTION_MATRIX.\n"
     ]
    }
   ],
   "source": [
    "# Obtener la lista de todas las imágenes en la carpeta\n",
    "image_files = [f for f in os.listdir(images_path) if f.endswith('.jpg')]\n",
    "image_files_sorted = sorted(image_files)\n",
    "results = []\n",
    "\n",
    "for image in image_files_sorted:\n",
    "    for threshold in thresholds:\n",
    "        results = evaluator.evaluate_image(image, threshold, results)"
   ]
  },
  {
   "cell_type": "markdown",
   "id": "35c04c00",
   "metadata": {},
   "source": [
    "# Generando XLS"
   ]
  },
  {
   "cell_type": "code",
   "execution_count": 3,
   "id": "b86acc5b",
   "metadata": {},
   "outputs": [
    {
     "name": "stdout",
     "output_type": "stream",
     "text": [
      "Los resultados se han guardado en /Users/apple/Documents/pose_estimation/MediaPipev0.10/velocidad/latency/mpipe_latency_results.xlsx\n"
     ]
    }
   ],
   "source": [
    "df_results = pd.DataFrame(results)\n",
    "output_excel_path = os.path.join(os.getenv('BASE_PATH'), os.getenv('MPIPE_SUBPATH'), 'velocidad', 'latency', 'mpipe_latency_results.xlsx')\n",
    "df_results.to_excel(output_excel_path, index=False, engine='openpyxl')\n",
    "\n",
    "print(f\"Los resultados se han guardado en {output_excel_path}\")"
   ]
  }
 ],
 "metadata": {
  "kernelspec": {
   "display_name": "mpipe_env",
   "language": "python",
   "name": "python3"
  },
  "language_info": {
   "codemirror_mode": {
    "name": "ipython",
    "version": 3
   },
   "file_extension": ".py",
   "mimetype": "text/x-python",
   "name": "python",
   "nbconvert_exporter": "python",
   "pygments_lexer": "ipython3",
   "version": "3.12.0"
  }
 },
 "nbformat": 4,
 "nbformat_minor": 5
}
