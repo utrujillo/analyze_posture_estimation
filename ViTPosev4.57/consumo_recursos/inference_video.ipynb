{
 "cells": [
  {
   "cell_type": "markdown",
   "id": "1bbf10d9",
   "metadata": {},
   "source": [
    "# MPS (Metal Performance Shaders) is a framework for GPU-accelerated image processing\n",
    "and machine learning on Apple platforms. It provides a set of highly optimized"
   ]
  },
  {
   "cell_type": "code",
   "execution_count": null,
   "id": "af76bf9c",
   "metadata": {},
   "outputs": [],
   "source": [
    "import os\n",
    "import importlib , core.evaluator # Importar importlib para recargar módulos\n",
    "import pandas as pd\n",
    "importlib.reload(core.evaluator)\n",
    "from glob import glob\n",
    "from core.evaluator import Evaluator\n",
    "\n",
    "# Configuracion\n",
    "detector_path = os.path.join(os.getenv('BASE_PATH'), os.getenv('VITPOSE_SUBPATH'), os.getenv('DETECTOR_SUBPATH'))\n",
    "estimator_path = os.path.join(os.getenv('BASE_PATH'), os.getenv('VITPOSE_SUBPATH'), os.getenv('POSE_SUBPATH'))\n",
    "images_path = os.path.join(os.getenv('BASE_PATH'), os.getenv('IMAGES_SUBPATH'))\n",
    "labels_path = os.path.join(os.getenv('BASE_PATH'), os.getenv('LABELS_SUBPATH'))\n",
    "videos_path = os.path.join(os.getenv('BASE_PATH'), os.getenv('VIDEOS_SUBPATH'))\n",
    "evaluator = Evaluator(os.getenv('BASE_PATH'), images_path, labels_path, videos_path, detector_path, estimator_path)\n",
    "thresholds = [0.1, 0.5, 0.9]"
   ]
  },
  {
   "cell_type": "markdown",
   "id": "6bdd76a5",
   "metadata": {},
   "source": [
    "# Evaluar un video"
   ]
  },
  {
   "cell_type": "code",
   "execution_count": null,
   "id": "5277b4d3",
   "metadata": {},
   "outputs": [],
   "source": [
    "video = 'ejercicio01 - frente.mp4'\n",
    "folder_path = os.path.join(videos_path, 'uziel', 'ejercicio01', 'conLuz', video)\n",
    "video_extensions = ['*.mp4', '*.avi', '*.mov']\n",
    "video_files = []\n",
    "results = []\n",
    "\n",
    "for ext in video_extensions:\n",
    "    video_files.extend(glob(os.path.join(folder_path, '**', ext), recursive=True))\n",
    "\n",
    "for video_path in video_files:\n",
    "    for threshold in thresholds:\n",
    "        results = evaluator.run_video_inference(\n",
    "            videos_path=video_path,\n",
    "            threshold=threshold,\n",
    "            results=results,\n",
    "            device_type='cpu',\n",
    "            frame_skip=5\n",
    "        )"
   ]
  },
  {
   "cell_type": "markdown",
   "id": "641e24ba",
   "metadata": {},
   "source": [
    "# Evaluar una carpeta con todos los videos en su interior, CPU, GPU y RAM"
   ]
  },
  {
   "cell_type": "code",
   "execution_count": null,
   "id": "9e901f14",
   "metadata": {},
   "outputs": [],
   "source": [
    "# video = 'ejercicio01 - frente.mp4'\n",
    "# folder_path = os.path.join(videos_path, 'uziel', 'ejercicio01', 'conLuz')\n",
    "folder_path = os.path.join(videos_path)\n",
    "video_extensions = ['*.mp4', '*.avi', '*.mov']\n",
    "video_files = []\n",
    "results = []\n",
    "\n",
    "for ext in video_extensions:\n",
    "    video_files.extend(glob(os.path.join(folder_path, '**', ext), recursive=True))\n",
    "\n",
    "for video_path in video_files:\n",
    "    for threshold in thresholds:\n",
    "        results = evaluator.run_video_inference(\n",
    "            videos_path=video_path,\n",
    "            threshold=threshold,\n",
    "            results=results,\n",
    "            device_type='cpu',\n",
    "            frame_skip=5\n",
    "        )"
   ]
  },
  {
   "cell_type": "markdown",
   "id": "20c442ae",
   "metadata": {},
   "source": [
    "# Generando XLS"
   ]
  },
  {
   "cell_type": "code",
   "execution_count": null,
   "id": "65a6c044",
   "metadata": {},
   "outputs": [],
   "source": [
    "# Crear un DataFrame con los resultados\n",
    "df_results = pd.DataFrame(results)\n",
    "output_excel_path = os.path.join(os.getenv('BASE_PATH'), os.getenv('VITPOSE_SUBPATH'), 'consumo_recursos', 'vitpose_video_consumo_results.xlsx')\n",
    "df_results.to_excel(output_excel_path, index=False, engine='openpyxl')\n",
    "\n",
    "print(f\"Los resultados se han guardado en {output_excel_path}\")"
   ]
  }
 ],
 "metadata": {
  "kernelspec": {
   "display_name": "mmpose_env",
   "language": "python",
   "name": "python3"
  },
  "language_info": {
   "codemirror_mode": {
    "name": "ipython",
    "version": 3
   },
   "file_extension": ".py",
   "mimetype": "text/x-python",
   "name": "python",
   "nbconvert_exporter": "python",
   "pygments_lexer": "ipython3",
   "version": "3.10.18"
  }
 },
 "nbformat": 4,
 "nbformat_minor": 5
}
