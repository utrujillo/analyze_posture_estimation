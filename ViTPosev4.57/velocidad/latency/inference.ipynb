{
 "cells": [
  {
   "cell_type": "markdown",
   "id": "618515b1",
   "metadata": {},
   "source": [
    "# Latencia\n",
    "Tiempo que tarda un modelo en procesar una entrada y generar una prediccion"
   ]
  },
  {
   "cell_type": "code",
   "execution_count": 1,
   "id": "318b8d78",
   "metadata": {},
   "outputs": [
    {
     "name": "stderr",
     "output_type": "stream",
     "text": [
      "/Users/apple/Documents/pose_estimation/ViTPosev4.57/vitpose_env/lib/python3.11/site-packages/tqdm/auto.py:21: TqdmWarning: IProgress not found. Please update jupyter and ipywidgets. See https://ipywidgets.readthedocs.io/en/stable/user_install.html\n",
      "  from .autonotebook import tqdm as notebook_tqdm\n"
     ]
    },
    {
     "name": "stdout",
     "output_type": "stream",
     "text": [
      "Cargando modelos en el dispositivo: cpu\n"
     ]
    },
    {
     "name": "stderr",
     "output_type": "stream",
     "text": [
      "`use_fast` is set to `True` but the image processor class does not have a fast version.  Falling back to the slow version.\n"
     ]
    }
   ],
   "source": [
    "import os, time\n",
    "import importlib , latency, pandas as pd # Importar importlib para recargar módulos\n",
    "from dotenv import load_dotenv\n",
    "\n",
    "dotenv_path = os.path.join(os.getcwd(), '..', '.env')\n",
    "importlib.reload(latency)\n",
    "from glob import glob\n",
    "from latency import Latency\n",
    "\n",
    "# Configuracion\n",
    "detector_path = os.path.join(os.getenv('BASE_PATH'), os.getenv('VITPOSE_SUBPATH'), os.getenv('DETECTOR_SUBPATH'))\n",
    "estimator_path = os.path.join(os.getenv('BASE_PATH'), os.getenv('VITPOSE_SUBPATH'), os.getenv('POSE_SUBPATH'))\n",
    "images_path = os.path.join(os.getenv('BASE_PATH'), os.getenv('IMAGES_SUBPATH'))\n",
    "labels_path = os.path.join(os.getenv('BASE_PATH'), os.getenv('LABELS_SUBPATH'))\n",
    "videos_path = os.path.join(os.getenv('BASE_PATH'), os.getenv('VIDEOS_SUBPATH'))\n",
    "evaluator = Latency(os.getenv('BASE_PATH'), images_path, labels_path, videos_path, detector_path, estimator_path)\n",
    "thresholds = [0.1, 0.5, 0.9]"
   ]
  },
  {
   "cell_type": "markdown",
   "id": "94dcf196",
   "metadata": {},
   "source": [
    "# Calculo de latencia en fotografias (1 imagen)\n"
   ]
  },
  {
   "cell_type": "code",
   "execution_count": 2,
   "id": "59b409a4",
   "metadata": {},
   "outputs": [],
   "source": [
    "image = 'imagen_014_jpg.rf.9b73844fd1a58e6de1dd2cd81aca8dc6.jpg'\n",
    "results = []\n",
    "for threshold in thresholds:\n",
    "    results = evaluator.evaluate_image(image, threshold, results)"
   ]
  },
  {
   "cell_type": "markdown",
   "id": "5b0e46d8",
   "metadata": {},
   "source": [
    "# Calculo de latencia en fotografias (muchas)"
   ]
  },
  {
   "cell_type": "code",
   "execution_count": 3,
   "id": "b208af7b",
   "metadata": {},
   "outputs": [],
   "source": [
    "# Obtener la lista de todas las imágenes en la carpeta\n",
    "image_files = [f for f in os.listdir(images_path) if f.endswith('.jpg')]\n",
    "image_files_sorted = sorted(image_files)\n",
    "results = []\n",
    "\n",
    "for image in image_files_sorted:\n",
    "    for threshold in thresholds:\n",
    "        results = evaluator.evaluate_image(image, threshold, results)"
   ]
  },
  {
   "cell_type": "markdown",
   "id": "35c04c00",
   "metadata": {},
   "source": [
    "# Generando XLS"
   ]
  },
  {
   "cell_type": "code",
   "execution_count": 4,
   "id": "b86acc5b",
   "metadata": {},
   "outputs": [
    {
     "name": "stdout",
     "output_type": "stream",
     "text": [
      "<bound method DataFrame.to_string of                                                image image_size  threshold  \\\n",
      "0  imagen_002_jpg.rf.39766b197a04d8d1569b3e546fd0...    144x256        0.1   \n",
      "1  imagen_002_jpg.rf.39766b197a04d8d1569b3e546fd0...    144x256        0.5   \n",
      "2  imagen_002_jpg.rf.39766b197a04d8d1569b3e546fd0...    144x256        0.9   \n",
      "3  imagen_003_jpg.rf.212077a70b1de84df04262b03db5...    147x256        0.1   \n",
      "4  imagen_003_jpg.rf.212077a70b1de84df04262b03db5...    147x256        0.5   \n",
      "\n",
      "    latency_ms  \n",
      "0  1057.731152  \n",
      "1  1054.521799  \n",
      "2  1107.635975  \n",
      "3  1150.110006  \n",
      "4  1264.425039  >\n",
      "Los resultados se han guardado en /Users/apple/Documents/pose_estimation/ViTPosev4.57/velocidad/latency/vitpose_latency_results.xlsx\n"
     ]
    }
   ],
   "source": [
    "df_results = pd.DataFrame(results)\n",
    "print(df_results.head().to_string)\n",
    "output_excel_path = os.path.join(os.getenv('BASE_PATH'), os.getenv('VITPOSE_SUBPATH'), 'velocidad', 'latency', 'vitpose_latency_results.xlsx')\n",
    "df_results.to_excel(output_excel_path, index=False, engine='openpyxl')\n",
    "\n",
    "print(f\"Los resultados se han guardado en {output_excel_path}\")"
   ]
  }
 ],
 "metadata": {
  "kernelspec": {
   "display_name": "vitpose_env",
   "language": "python",
   "name": "python3"
  },
  "language_info": {
   "codemirror_mode": {
    "name": "ipython",
    "version": 3
   },
   "file_extension": ".py",
   "mimetype": "text/x-python",
   "name": "python",
   "nbconvert_exporter": "python",
   "pygments_lexer": "ipython3",
   "version": "3.11.13"
  }
 },
 "nbformat": 4,
 "nbformat_minor": 5
}
