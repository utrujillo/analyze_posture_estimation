{
 "cells": [
  {
   "cell_type": "code",
   "execution_count": null,
   "id": "68b747f0",
   "metadata": {},
   "outputs": [
    {
     "name": "stderr",
     "output_type": "stream",
     "text": [
      "WARNING: All log messages before absl::InitializeLog() is called are written to STDERR\n",
      "I0000 00:00:1762028954.098393  144838 gl_context.cc:369] GL version: 2.1 (2.1 ATI-4.10.12), renderer: AMD Radeon Pro 5300M OpenGL Engine\n"
     ]
    },
    {
     "name": "stderr",
     "output_type": "stream",
     "text": [
      "INFO: Created TensorFlow Lite XNNPACK delegate for CPU.\n",
      "W0000 00:00:1762028954.267575  147355 inference_feedback_manager.cc:114] Feedback manager requires a model with a single signature inference. Disabling support for feedback tensors.\n",
      "W0000 00:00:1762028954.401229  147355 inference_feedback_manager.cc:114] Feedback manager requires a model with a single signature inference. Disabling support for feedback tensors.\n"
     ]
    }
   ],
   "source": [
    "import os\n",
    "import importlib , mpjpe, pandas as pd # Importar importlib para recargar módulos\n",
    "from dotenv import load_dotenv\n",
    "\n",
    "dotenv_path = os.path.join(os.getcwd(), '..', '.env')\n",
    "importlib.reload(mpjpe)\n",
    "from mpjpe import MPJPE\n",
    "\n",
    "# Configuracion\n",
    "images_path = os.path.join(os.getenv('BASE_PATH'), os.getenv('IMAGES_SUBPATH'))\n",
    "labels_path = os.path.join(os.getenv('BASE_PATH'), os.getenv('LABELS_SUBPATH'))\n",
    "evaluator = MPJPE(os.getenv('BASE_PATH'), images_path, labels_path)\n",
    "thresholds = [0.1, 0.5, 0.9]"
   ]
  },
  {
   "cell_type": "markdown",
   "id": "32b9c32e",
   "metadata": {},
   "source": [
    "# Evaluando una imagen"
   ]
  },
  {
   "cell_type": "code",
   "execution_count": null,
   "id": "0195ae3e",
   "metadata": {},
   "outputs": [],
   "source": [
    "image = 'imagen_040_jpg.rf.d710dd5ec7f87c241d380f2d9da1357b.jpg'\n",
    "results = []\n",
    "\n",
    "for threshold in thresholds:\n",
    "    results = evaluator.evaluate_image(image, threshold, results)"
   ]
  },
  {
   "cell_type": "markdown",
   "id": "d531458e",
   "metadata": {},
   "source": [
    "# Evaluando multiples imagenes"
   ]
  },
  {
   "cell_type": "code",
   "execution_count": 2,
   "id": "7bb32e82",
   "metadata": {},
   "outputs": [
    {
     "name": "stderr",
     "output_type": "stream",
     "text": [
      "W0000 00:00:1762028966.160157  147363 landmark_projection_calculator.cc:186] Using NORM_RECT without IMAGE_DIMENSIONS is only supported for the square ROI. Provide IMAGE_DIMENSIONS or use PROJECTION_MATRIX.\n"
     ]
    },
    {
     "name": "stdout",
     "output_type": "stream",
     "text": [
      "No se detectaron pose en la imagen imagen_065_jpg.rf.939388d8bd5206439fbf96ec0ef0381e.jpg.\n",
      "No se detectaron pose en la imagen imagen_065_jpg.rf.939388d8bd5206439fbf96ec0ef0381e.jpg.\n",
      "No se detectaron pose en la imagen imagen_065_jpg.rf.939388d8bd5206439fbf96ec0ef0381e.jpg.\n",
      "No se detectaron pose en la imagen imagen_118_jpg.rf.3757fdc89b93d39df12cc1c02ea5f311.jpg.\n",
      "No se detectaron pose en la imagen imagen_118_jpg.rf.3757fdc89b93d39df12cc1c02ea5f311.jpg.\n",
      "No se detectaron pose en la imagen imagen_118_jpg.rf.3757fdc89b93d39df12cc1c02ea5f311.jpg.\n"
     ]
    }
   ],
   "source": [
    "# Obtener la lista de todas las imágenes en la carpeta\n",
    "image_files = [f for f in os.listdir(images_path) if f.endswith('.jpg')]\n",
    "image_files_sorted = sorted(image_files)\n",
    "results = []\n",
    "\n",
    "for image in image_files_sorted:\n",
    "    for threshold in thresholds:\n",
    "        results = evaluator.evaluate_image(image, threshold, results)"
   ]
  },
  {
   "cell_type": "markdown",
   "id": "f6e02386",
   "metadata": {},
   "source": [
    "# Generando XLS"
   ]
  },
  {
   "cell_type": "code",
   "execution_count": 3,
   "id": "5fbb6a79",
   "metadata": {},
   "outputs": [
    {
     "name": "stdout",
     "output_type": "stream",
     "text": [
      "Los resultados se han guardado en /Users/apple/Documents/pose_estimation/MediaPipev0.10/precision/MPJPE/mpipe_mpjpe_results.xlsx\n"
     ]
    }
   ],
   "source": [
    "# Crear un DataFrame con los resultados\n",
    "df_results = pd.DataFrame(results)\n",
    "output_excel_path = os.path.join(os.getenv('BASE_PATH'), os.getenv('MPIPE_SUBPATH'), 'precision', 'MPJPE', 'mpipe_mpjpe_results.xlsx')\n",
    "df_results.to_excel(output_excel_path, index=False, engine='openpyxl')\n",
    "\n",
    "print(f\"Los resultados se han guardado en {output_excel_path}\")"
   ]
  }
 ],
 "metadata": {
  "kernelspec": {
   "display_name": "mpipe_env",
   "language": "python",
   "name": "python3"
  },
  "language_info": {
   "codemirror_mode": {
    "name": "ipython",
    "version": 3
   },
   "file_extension": ".py",
   "mimetype": "text/x-python",
   "name": "python",
   "nbconvert_exporter": "python",
   "pygments_lexer": "ipython3",
   "version": "3.12.0"
  }
 },
 "nbformat": 4,
 "nbformat_minor": 5
}
