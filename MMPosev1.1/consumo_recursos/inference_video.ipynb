{
 "cells": [
  {
   "cell_type": "markdown",
   "id": "1bbf10d9",
   "metadata": {},
   "source": [
    "# MPS (Metal Performance Shaders) is a framework for GPU-accelerated image processing\n",
    "and machine learning on Apple platforms. It provides a set of highly optimized"
   ]
  },
  {
   "cell_type": "code",
   "execution_count": 2,
   "id": "af76bf9c",
   "metadata": {},
   "outputs": [
    {
     "name": "stderr",
     "output_type": "stream",
     "text": [
      "/Users/apple/Documents/pose_estimation/MMPosev1.1/mmpose_env/lib/python3.10/site-packages/mmcv/cnn/bricks/transformer.py:33: UserWarning: Fail to import ``MultiScaleDeformableAttention`` from ``mmcv.ops.multi_scale_deform_attn``, You should install ``mmcv`` rather than ``mmcv-lite`` if you need this module. \n",
      "  warnings.warn('Fail to import ``MultiScaleDeformableAttention`` from '\n"
     ]
    },
    {
     "name": "stdout",
     "output_type": "stream",
     "text": [
      "Loads checkpoint by local backend from path: /Users/apple/Documents/pose_estimation/MMPosev1.1/configs/model_weights/hrnet_w32_coco_256x192-c78dce93_20200708.pth\n"
     ]
    },
    {
     "name": "stderr",
     "output_type": "stream",
     "text": [
      "/Users/apple/Documents/pose_estimation/MMPosev1.1/mmpose_env/lib/python3.10/site-packages/mmpose/datasets/datasets/utils.py:102: UserWarning: The metainfo config file \"configs/_base_/datasets/coco.py\" does not exist. A matched config file \"/Users/apple/Documents/pose_estimation/MMPosev1.1/mmpose_env/lib/python3.10/site-packages/mmpose/.mim/configs/_base_/datasets/coco.py\" will be used instead.\n",
      "  warnings.warn(\n"
     ]
    }
   ],
   "source": [
    "import os\n",
    "import importlib , core.evaluator # Importar importlib para recargar módulos\n",
    "import pandas as pd\n",
    "importlib.reload(core.evaluator)\n",
    "from glob import glob\n",
    "from core.evaluator import Evaluator\n",
    "\n",
    "# Configuracion\n",
    "config_file = os.path.join(os.getenv('BASE_PATH'), os.getenv('MMPOSE_SUBPATH'), os.getenv('CONFIG_SUBPATH'))\n",
    "checkpoint_file = os.path.join(os.getenv('BASE_PATH'), os.getenv('MMPOSE_SUBPATH'), os.getenv('CHECKPOINT_SUBPATH'))\n",
    "images_path = os.path.join(os.getenv('BASE_PATH'), os.getenv('IMAGES_SUBPATH'))\n",
    "labels_path = os.path.join(os.getenv('BASE_PATH'), os.getenv('LABELS_SUBPATH'))\n",
    "videos_path = os.path.join(os.getenv('BASE_PATH'), os.getenv('VIDEOS_SUBPATH'))\n",
    "evaluator = Evaluator(os.getenv('BASE_PATH'), images_path, labels_path, videos_path, config_file, checkpoint_file)\n",
    "thresholds = [0.1, 0.5, 0.9]"
   ]
  },
  {
   "cell_type": "markdown",
   "id": "6bdd76a5",
   "metadata": {},
   "source": [
    "# Evaluar un video"
   ]
  },
  {
   "cell_type": "code",
   "execution_count": 3,
   "id": "5277b4d3",
   "metadata": {},
   "outputs": [
    {
     "name": "stderr",
     "output_type": "stream",
     "text": [
      "CPU: Procesando /Users/apple/Documents/pose_estimation/dataset/videos/uziel/ejercicio01/conLuz/ejercicio01 - frente.mp4 (th:0.1): 100%|██████████| 175/175 [01:03<00:00,  2.75it/s]\n",
      "CPU: Procesando /Users/apple/Documents/pose_estimation/dataset/videos/uziel/ejercicio01/conLuz/ejercicio01 - frente.mp4 (th:0.5): 100%|██████████| 175/175 [01:03<00:00,  2.77it/s]\n",
      "CPU: Procesando /Users/apple/Documents/pose_estimation/dataset/videos/uziel/ejercicio01/conLuz/ejercicio01 - frente.mp4 (th:0.9): 100%|██████████| 175/175 [01:02<00:00,  2.80it/s]\n",
      "CPU: Procesando /Users/apple/Documents/pose_estimation/dataset/videos/uziel/ejercicio01/conLuz/ejercicio01 - izquierda.mp4 (th:0.1): 100%|██████████| 161/161 [01:00<00:00,  2.67it/s]\n",
      "CPU: Procesando /Users/apple/Documents/pose_estimation/dataset/videos/uziel/ejercicio01/conLuz/ejercicio01 - izquierda.mp4 (th:0.5): 100%|██████████| 161/161 [00:58<00:00,  2.77it/s]\n",
      "CPU: Procesando /Users/apple/Documents/pose_estimation/dataset/videos/uziel/ejercicio01/conLuz/ejercicio01 - izquierda.mp4 (th:0.9): 100%|██████████| 161/161 [01:03<00:00,  2.53it/s]\n",
      "CPU: Procesando /Users/apple/Documents/pose_estimation/dataset/videos/uziel/ejercicio01/conLuz/ejercicio01 - derecha.mp4 (th:0.1): 100%|██████████| 190/190 [01:10<00:00,  2.68it/s]\n",
      "CPU: Procesando /Users/apple/Documents/pose_estimation/dataset/videos/uziel/ejercicio01/conLuz/ejercicio01 - derecha.mp4 (th:0.5): 100%|██████████| 190/190 [01:06<00:00,  2.84it/s]\n",
      "CPU: Procesando /Users/apple/Documents/pose_estimation/dataset/videos/uziel/ejercicio01/conLuz/ejercicio01 - derecha.mp4 (th:0.9): 100%|██████████| 190/190 [01:07<00:00,  2.83it/s]\n"
     ]
    }
   ],
   "source": [
    "video = 'ejercicio01 - frente.mp4'\n",
    "folder_path = os.path.join(videos_path, 'uziel', 'ejercicio01', 'conLuz')\n",
    "video_extensions = ['*.mp4', '*.avi', '*.mov']\n",
    "video_files = []\n",
    "results = []\n",
    "\n",
    "for ext in video_extensions:\n",
    "    video_files.extend(glob(os.path.join(folder_path, '**', ext), recursive=True))\n",
    "\n",
    "for video_path in video_files:\n",
    "    for threshold in thresholds:\n",
    "        results = evaluator.run_video_inference(\n",
    "            videos_path=video_path,\n",
    "            threshold=threshold,\n",
    "            results=results,\n",
    "            device_type='cpu',\n",
    "            frame_skip=5\n",
    "        )"
   ]
  },
  {
   "cell_type": "markdown",
   "id": "641e24ba",
   "metadata": {},
   "source": [
    "# Evaluar una carpeta con todos los videos en su interior, CPU, GPU y RAM"
   ]
  },
  {
   "cell_type": "code",
   "execution_count": null,
   "id": "9e901f14",
   "metadata": {},
   "outputs": [],
   "source": [
    "# video = 'ejercicio01 - frente.mp4'\n",
    "# folder_path = os.path.join(videos_path, 'uziel', 'ejercicio01', 'conLuz')\n",
    "folder_path = os.path.join(videos_path, 'uziel')\n",
    "video_extensions = ['*.mp4', '*.avi', '*.mov']\n",
    "video_files = []\n",
    "results = []\n",
    "\n",
    "for ext in video_extensions:\n",
    "    video_files.extend(glob(os.path.join(folder_path, '**', ext), recursive=True))\n",
    "\n",
    "for video_path in video_files:\n",
    "    for threshold in thresholds:\n",
    "        results = evaluator.run_video_inference(\n",
    "            videos_path=video_path,\n",
    "            threshold=threshold,\n",
    "            results=results,\n",
    "            device_type='cpu',\n",
    "            frame_skip=5\n",
    "        )"
   ]
  },
  {
   "cell_type": "markdown",
   "id": "20c442ae",
   "metadata": {},
   "source": [
    "# Generando XLS"
   ]
  },
  {
   "cell_type": "code",
   "execution_count": 5,
   "id": "65a6c044",
   "metadata": {},
   "outputs": [
    {
     "name": "stdout",
     "output_type": "stream",
     "text": [
      "Los resultados se han guardado en /Users/apple/Documents/pose_estimation/MMPosev1.1/consumo_recursos/mmpose_video_consumo_results.xlsx\n"
     ]
    }
   ],
   "source": [
    "# Crear un DataFrame con los resultados\n",
    "df_results = pd.DataFrame(results)\n",
    "output_excel_path = os.path.join(os.getenv('BASE_PATH'), os.getenv('MMPOSE_SUBPATH'), 'consumo_recursos', 'mmpose_video_consumo_results.xlsx')\n",
    "df_results.to_excel(output_excel_path, index=False, engine='openpyxl')\n",
    "\n",
    "print(f\"Los resultados se han guardado en {output_excel_path}\")"
   ]
  }
 ],
 "metadata": {
  "kernelspec": {
   "display_name": "mmpose_env",
   "language": "python",
   "name": "python3"
  },
  "language_info": {
   "codemirror_mode": {
    "name": "ipython",
    "version": 3
   },
   "file_extension": ".py",
   "mimetype": "text/x-python",
   "name": "python",
   "nbconvert_exporter": "python",
   "pygments_lexer": "ipython3",
   "version": "3.10.18"
  }
 },
 "nbformat": 4,
 "nbformat_minor": 5
}
