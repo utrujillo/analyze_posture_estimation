{
 "cells": [
  {
   "cell_type": "markdown",
   "id": "618515b1",
   "metadata": {},
   "source": [
    "# Latencia\n",
    "Tiempo que tarda un modelo en procesar una entrada y generar una prediccion"
   ]
  },
  {
   "cell_type": "code",
   "execution_count": 4,
   "id": "318b8d78",
   "metadata": {},
   "outputs": [
    {
     "name": "stderr",
     "output_type": "stream",
     "text": [
      "I0000 00:00:1761702835.713306   86030 gl_context.cc:369] GL version: 2.1 (2.1 ATI-4.10.12), renderer: AMD Radeon Pro 5300M OpenGL Engine\n"
     ]
    },
    {
     "name": "stderr",
     "output_type": "stream",
     "text": [
      "W0000 00:00:1761702835.948507   90255 inference_feedback_manager.cc:114] Feedback manager requires a model with a single signature inference. Disabling support for feedback tensors.\n",
      "W0000 00:00:1761702836.068363   90255 inference_feedback_manager.cc:114] Feedback manager requires a model with a single signature inference. Disabling support for feedback tensors.\n"
     ]
    }
   ],
   "source": [
    "import os, time\n",
    "import importlib , latency, pandas as pd # Importar importlib para recargar módulos\n",
    "from dotenv import load_dotenv\n",
    "\n",
    "dotenv_path = os.path.join(os.getcwd(), '..', '.env')\n",
    "importlib.reload(latency)\n",
    "from glob import glob\n",
    "from latency import Latency\n",
    "\n",
    "# Configuracion\n",
    "images_path = os.path.join(os.getenv('BASE_PATH'), os.getenv('IMAGES_SUBPATH'))\n",
    "labels_path = os.path.join(os.getenv('BASE_PATH'), os.getenv('LABELS_SUBPATH'))\n",
    "videos_path = os.path.join(os.getenv('BASE_PATH'), os.getenv('VIDEOS_SUBPATH'))\n",
    "evaluator = Latency(os.getenv('BASE_PATH'), images_path, labels_path, videos_path)\n",
    "thresholds = [0.1, 0.5, 0.9]"
   ]
  },
  {
   "cell_type": "markdown",
   "id": "864635cd",
   "metadata": {},
   "source": [
    "# Calculo de latencia en un video"
   ]
  },
  {
   "cell_type": "code",
   "execution_count": 5,
   "id": "f962afbd",
   "metadata": {},
   "outputs": [
    {
     "name": "stderr",
     "output_type": "stream",
     "text": [
      "Procesando ejercicio01 - frente.mp4: 100%|██████████| 175/175 [00:03<00:00, 53.47it/s]\n",
      "Procesando ejercicio01 - frente.mp4: 100%|██████████| 175/175 [00:03<00:00, 53.19it/s]\n",
      "Procesando ejercicio01 - frente.mp4: 100%|██████████| 175/175 [00:03<00:00, 55.61it/s]\n"
     ]
    }
   ],
   "source": [
    "video = 'ejercicio01 - frente.mp4'\n",
    "video_path = os.path.join('uziel', 'ejercicio01', 'conLuz', video)\n",
    "results = []\n",
    "for threshold in thresholds:\n",
    "    results = evaluator.evaluate_video(\n",
    "        videos_path=video_path, \n",
    "        threshold=threshold, \n",
    "        results=results,\n",
    "        frame_skip=5,\n",
    "    )"
   ]
  },
  {
   "cell_type": "markdown",
   "id": "f7698d3a",
   "metadata": {},
   "source": [
    "# Calculo de latencia en videos dentro de una carpeta"
   ]
  },
  {
   "cell_type": "code",
   "execution_count": null,
   "id": "e5350ef3",
   "metadata": {},
   "outputs": [],
   "source": [
    "folder_path = os.path.join(videos_path, 'uziel')\n",
    "video_extensions = ['*.mp4', '*.avi', '*.mov']\n",
    "video_files = []\n",
    "results = []\n",
    "\n",
    "for ext in video_extensions:\n",
    "    video_files.extend(glob(os.path.join(folder_path, '**', ext), recursive=True))\n",
    "\n",
    "for video_path in video_files:\n",
    "    for threshold in thresholds:\n",
    "        results = evaluator.evaluate_video(\n",
    "            videos_path=video_path, \n",
    "            threshold=threshold, \n",
    "            results=results,\n",
    "            frame_skip=5,\n",
    "        )"
   ]
  },
  {
   "cell_type": "markdown",
   "id": "e1d3610a",
   "metadata": {},
   "source": [
    "# Generando XLS de los resultados de los videos"
   ]
  },
  {
   "cell_type": "code",
   "execution_count": 6,
   "id": "7bb2d436",
   "metadata": {},
   "outputs": [
    {
     "name": "stdout",
     "output_type": "stream",
     "text": [
      "<bound method DataFrame.to_string of                       video video_resolution  threshold  video_fps  \\\n",
      "0  ejercicio01 - frente.mp4          480x864        0.1  30.016466   \n",
      "1  ejercicio01 - frente.mp4          480x864        0.1  30.016466   \n",
      "2  ejercicio01 - frente.mp4          480x864        0.1  30.016466   \n",
      "3  ejercicio01 - frente.mp4          480x864        0.1  30.016466   \n",
      "4  ejercicio01 - frente.mp4          480x864        0.1  30.016466   \n",
      "\n",
      "   frame_skip  latency_ms  processed_frames  total_frames  \n",
      "0           5  106.949091                 1           175  \n",
      "1           5   92.270136                 2           175  \n",
      "2           5   88.587046                 3           175  \n",
      "3           5   90.125799                 4           175  \n",
      "4           5   86.796761                 5           175  >\n",
      "Los resultados se han guardado en /Users/apple/Documents/pose_estimation/MediaPipev0.10/velocidad/latency/mpipe_video_latency_results.xlsx\n"
     ]
    }
   ],
   "source": [
    "df_results = pd.DataFrame(results)\n",
    "print(df_results.head().to_string)\n",
    "output_excel_path = os.path.join(os.getenv('BASE_PATH'), os.getenv('MPIPE_SUBPATH'), 'velocidad', 'latency', 'mpipe_video_latency_results.xlsx')\n",
    "df_results.to_excel(output_excel_path, index=False, engine='openpyxl')\n",
    "\n",
    "print(f\"Los resultados se han guardado en {output_excel_path}\")"
   ]
  }
 ],
 "metadata": {
  "kernelspec": {
   "display_name": "mpipe_env",
   "language": "python",
   "name": "python3"
  },
  "language_info": {
   "codemirror_mode": {
    "name": "ipython",
    "version": 3
   },
   "file_extension": ".py",
   "mimetype": "text/x-python",
   "name": "python",
   "nbconvert_exporter": "python",
   "pygments_lexer": "ipython3",
   "version": "3.12.0"
  }
 },
 "nbformat": 4,
 "nbformat_minor": 5
}
