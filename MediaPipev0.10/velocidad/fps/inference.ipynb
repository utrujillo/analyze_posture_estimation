{
 "cells": [
  {
   "cell_type": "markdown",
   "id": "1bbf10d9",
   "metadata": {},
   "source": [
    "# MPS (Metal Performance Shaders) is a framework for GPU-accelerated image processing\n",
    "and machine learning on Apple platforms. It provides a set of highly optimized"
   ]
  },
  {
   "cell_type": "code",
   "execution_count": 1,
   "id": "af76bf9c",
   "metadata": {},
   "outputs": [],
   "source": [
    "import os\n",
    "import importlib , evaluator, pandas as pd # Importar importlib para recargar módulos\n",
    "from dotenv import load_dotenv\n",
    "\n",
    "dotenv_path = os.path.join(os.getcwd(), '..', '.env')\n",
    "importlib.reload(evaluator)\n",
    "from evaluator import Evaluator\n",
    "\n",
    "# Configuracion\n",
    "images_path = os.path.join(os.getenv('BASE_PATH'), os.getenv('IMAGES_SUBPATH'))\n",
    "labels_path = os.path.join(os.getenv('BASE_PATH'), os.getenv('LABELS_SUBPATH'))\n",
    "videos_path = os.path.join(os.getenv('BASE_PATH'), os.getenv('VIDEOS_SUBPATH'))\n",
    "evaluator = Evaluator(os.getenv('BASE_PATH'), images_path, labels_path, videos_path)\n",
    "thresholds = [0.1, 0.5, 0.9]"
   ]
  },
  {
   "cell_type": "markdown",
   "id": "5423390d",
   "metadata": {},
   "source": [
    "# Evaluar FPS usando la CPU"
   ]
  },
  {
   "cell_type": "code",
   "execution_count": 2,
   "id": "663075f3",
   "metadata": {},
   "outputs": [
    {
     "name": "stderr",
     "output_type": "stream",
     "text": [
      "WARNING: All log messages before absl::InitializeLog() is called are written to STDERR\n",
      "I0000 00:00:1761702997.559707   91991 gl_context.cc:369] GL version: 2.1 (2.1 ATI-4.10.12), renderer: AMD Radeon Pro 5300M OpenGL Engine\n",
      "INFO: Created TensorFlow Lite XNNPACK delegate for CPU.\n",
      "W0000 00:00:1761702997.726797   92118 inference_feedback_manager.cc:114] Feedback manager requires a model with a single signature inference. Disabling support for feedback tensors.\n",
      "W0000 00:00:1761702997.848896   92118 inference_feedback_manager.cc:114] Feedback manager requires a model with a single signature inference. Disabling support for feedback tensors.\n",
      "W0000 00:00:1761702997.919814   92111 landmark_projection_calculator.cc:186] Using NORM_RECT without IMAGE_DIMENSIONS is only supported for the square ROI. Provide IMAGE_DIMENSIONS or use PROJECTION_MATRIX.\n"
     ]
    }
   ],
   "source": [
    "image = 'imagen_014_jpg.rf.9b73844fd1a58e6de1dd2cd81aca8dc6.jpg'\n",
    "results = []\n",
    "for threshold in thresholds:\n",
    "    results = evaluator.on_cpu(image, threshold, results)"
   ]
  },
  {
   "cell_type": "markdown",
   "id": "fb2bf26e",
   "metadata": {},
   "source": [
    "# Evaluar FPS usando la CPU de multiples imagenes"
   ]
  },
  {
   "cell_type": "code",
   "execution_count": 3,
   "id": "e65511a1",
   "metadata": {},
   "outputs": [],
   "source": [
    "# Obtener la lista de todas las imágenes en la carpeta\n",
    "image_files = [f for f in os.listdir(images_path) if f.endswith('.jpg')]\n",
    "image_files_sorted = sorted(image_files)\n",
    "results = []\n",
    "\n",
    "for image in image_files_sorted:\n",
    "    for threshold in thresholds:\n",
    "        results = evaluator.on_cpu(image, threshold, results)"
   ]
  },
  {
   "cell_type": "markdown",
   "id": "20c442ae",
   "metadata": {},
   "source": [
    "# Generando XLS"
   ]
  },
  {
   "cell_type": "code",
   "execution_count": 4,
   "id": "65a6c044",
   "metadata": {},
   "outputs": [
    {
     "name": "stdout",
     "output_type": "stream",
     "text": [
      "Los resultados se han guardado en /Users/apple/Documents/pose_estimation/MediaPipev0.10/velocidad/fps/mpipe_fps_results.xlsx\n"
     ]
    }
   ],
   "source": [
    "# Crear un DataFrame con los resultados\n",
    "df_results = pd.DataFrame(results)\n",
    "output_excel_path = os.path.join(os.getenv('BASE_PATH'), os.getenv('MPIPE_SUBPATH'), 'velocidad', 'fps', 'mpipe_fps_results.xlsx')\n",
    "df_results.to_excel(output_excel_path, index=False, engine='openpyxl')\n",
    "\n",
    "print(f\"Los resultados se han guardado en {output_excel_path}\")"
   ]
  }
 ],
 "metadata": {
  "kernelspec": {
   "display_name": "mpipe_env",
   "language": "python",
   "name": "python3"
  },
  "language_info": {
   "codemirror_mode": {
    "name": "ipython",
    "version": 3
   },
   "file_extension": ".py",
   "mimetype": "text/x-python",
   "name": "python",
   "nbconvert_exporter": "python",
   "pygments_lexer": "ipython3",
   "version": "3.12.0"
  }
 },
 "nbformat": 4,
 "nbformat_minor": 5
}
