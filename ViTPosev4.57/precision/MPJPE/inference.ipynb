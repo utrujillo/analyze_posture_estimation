{
 "cells": [
  {
   "cell_type": "code",
   "execution_count": 1,
   "metadata": {},
   "outputs": [
    {
     "name": "stderr",
     "output_type": "stream",
     "text": [
      "/Users/apple/Documents/pose_estimation/ViTPosev4.57/vitpose_env/lib/python3.11/site-packages/tqdm/auto.py:21: TqdmWarning: IProgress not found. Please update jupyter and ipywidgets. See https://ipywidgets.readthedocs.io/en/stable/user_install.html\n",
      "  from .autonotebook import tqdm as notebook_tqdm\n"
     ]
    },
    {
     "name": "stdout",
     "output_type": "stream",
     "text": [
      "Cargando modelos en el dispositivo: cpu\n"
     ]
    },
    {
     "name": "stderr",
     "output_type": "stream",
     "text": [
      "`use_fast` is set to `True` but the image processor class does not have a fast version.  Falling back to the slow version.\n"
     ]
    }
   ],
   "source": [
    "import os\n",
    "import importlib , mpjpe, pandas as pd # Importar importlib para recargar módulos\n",
    "from dotenv import load_dotenv\n",
    "\n",
    "dotenv_path = os.path.join(os.getcwd(), '..', '.env')\n",
    "importlib.reload(mpjpe)\n",
    "from mpjpe import MPJPE\n",
    "\n",
    "# Configuracion\n",
    "detector_path = os.path.join(os.getenv('BASE_PATH'), os.getenv('VITPOSE_SUBPATH'), os.getenv('DETECTOR_SUBPATH'))\n",
    "estimator_path = os.path.join(os.getenv('BASE_PATH'), os.getenv('VITPOSE_SUBPATH'), os.getenv('POSE_SUBPATH'))\n",
    "images_path = os.path.join(os.getenv('BASE_PATH'), os.getenv('IMAGES_SUBPATH'))\n",
    "labels_path = os.path.join(os.getenv('BASE_PATH'), os.getenv('LABELS_SUBPATH'))\n",
    "evaluator = MPJPE(os.getenv('BASE_PATH'), images_path, labels_path, detector_path, estimator_path)"
   ]
  },
  {
   "cell_type": "markdown",
   "metadata": {},
   "source": [
    "# Evaluando una imagen"
   ]
  },
  {
   "cell_type": "code",
   "execution_count": 2,
   "metadata": {},
   "outputs": [
    {
     "name": "stdout",
     "output_type": "stream",
     "text": [
      "MPJPE: 0.0203 (normalized), 5.98 (pixels)\n"
     ]
    }
   ],
   "source": [
    "image = 'imagen_011_jpg.rf.efc4f6570869d250cc6316a35f6b4b26.jpg'\n",
    "results = []\n",
    "\n",
    "results = evaluator.evaluate_image(image, results)"
   ]
  },
  {
   "cell_type": "markdown",
   "metadata": {},
   "source": [
    "# Evaluando multiples imagenes"
   ]
  },
  {
   "cell_type": "code",
   "execution_count": 3,
   "metadata": {},
   "outputs": [
    {
     "name": "stdout",
     "output_type": "stream",
     "text": [
      "MPJPE: 0.0159 (normalized), 4.67 (pixels)\n",
      "MPJPE: 0.0138 (normalized), 4.07 (pixels)\n",
      "MPJPE: 0.0125 (normalized), 3.69 (pixels)\n",
      "MPJPE: 0.0168 (normalized), 4.99 (pixels)\n",
      "MPJPE: 0.0147 (normalized), 4.35 (pixels)\n",
      "MPJPE: 0.0128 (normalized), 3.78 (pixels)\n",
      "MPJPE: 0.0148 (normalized), 4.33 (pixels)\n",
      "MPJPE: 0.0132 (normalized), 3.89 (pixels)\n",
      "MPJPE: 0.0158 (normalized), 4.67 (pixels)\n",
      "MPJPE: 0.0203 (normalized), 5.98 (pixels)\n",
      "MPJPE: 0.0126 (normalized), 3.72 (pixels)\n",
      "MPJPE: 0.0132 (normalized), 3.91 (pixels)\n",
      "MPJPE: 0.0139 (normalized), 4.11 (pixels)\n",
      "MPJPE: 0.0197 (normalized), 5.80 (pixels)\n",
      "MPJPE: 0.0134 (normalized), 3.93 (pixels)\n",
      "MPJPE: 0.0203 (normalized), 5.95 (pixels)\n",
      "MPJPE: 0.0121 (normalized), 3.56 (pixels)\n",
      "MPJPE: 0.0258 (normalized), 7.62 (pixels)\n",
      "MPJPE: 0.0171 (normalized), 5.05 (pixels)\n",
      "MPJPE: 0.0242 (normalized), 7.12 (pixels)\n",
      "MPJPE: 0.0145 (normalized), 4.25 (pixels)\n",
      "MPJPE: 0.0156 (normalized), 4.58 (pixels)\n",
      "MPJPE: 0.0138 (normalized), 4.07 (pixels)\n",
      "MPJPE: 0.0139 (normalized), 4.09 (pixels)\n",
      "MPJPE: 0.0141 (normalized), 4.16 (pixels)\n",
      "MPJPE: 0.0122 (normalized), 3.60 (pixels)\n",
      "MPJPE: 0.0101 (normalized), 2.98 (pixels)\n",
      "MPJPE: 0.0100 (normalized), 2.95 (pixels)\n",
      "MPJPE: 0.0136 (normalized), 4.00 (pixels)\n",
      "MPJPE: 0.0127 (normalized), 3.75 (pixels)\n",
      "MPJPE: 0.0114 (normalized), 3.36 (pixels)\n",
      "MPJPE: 0.0120 (normalized), 3.55 (pixels)\n",
      "MPJPE: 0.0122 (normalized), 3.61 (pixels)\n",
      "MPJPE: 0.0159 (normalized), 4.70 (pixels)\n",
      "MPJPE: 0.0188 (normalized), 5.51 (pixels)\n",
      "MPJPE: 0.0097 (normalized), 2.85 (pixels)\n",
      "MPJPE: 0.0130 (normalized), 3.85 (pixels)\n",
      "MPJPE: 0.0089 (normalized), 2.61 (pixels)\n",
      "MPJPE: 0.0146 (normalized), 4.29 (pixels)\n",
      "MPJPE: 0.0171 (normalized), 5.05 (pixels)\n",
      "MPJPE: 0.0095 (normalized), 2.81 (pixels)\n",
      "MPJPE: 0.0215 (normalized), 6.33 (pixels)\n",
      "MPJPE: 0.0163 (normalized), 4.81 (pixels)\n",
      "MPJPE: 0.0101 (normalized), 2.98 (pixels)\n",
      "MPJPE: 0.0180 (normalized), 5.29 (pixels)\n",
      "MPJPE: 0.0126 (normalized), 3.68 (pixels)\n",
      "MPJPE: 0.0149 (normalized), 4.37 (pixels)\n",
      "MPJPE: 0.0161 (normalized), 4.72 (pixels)\n",
      "MPJPE: 0.0100 (normalized), 2.94 (pixels)\n",
      "MPJPE: 0.0113 (normalized), 3.31 (pixels)\n",
      "MPJPE: 0.0169 (normalized), 4.97 (pixels)\n",
      "MPJPE: 0.0098 (normalized), 2.86 (pixels)\n",
      "MPJPE: 0.0132 (normalized), 3.88 (pixels)\n",
      "MPJPE: 0.0151 (normalized), 4.42 (pixels)\n",
      "MPJPE: 0.0099 (normalized), 2.90 (pixels)\n",
      "MPJPE: 0.0145 (normalized), 4.27 (pixels)\n",
      "MPJPE: 0.0582 (normalized), 17.08 (pixels)\n",
      "MPJPE: 0.0154 (normalized), 4.52 (pixels)\n",
      "MPJPE: 0.0146 (normalized), 4.27 (pixels)\n",
      "MPJPE: 0.0147 (normalized), 4.32 (pixels)\n",
      "MPJPE: 0.0499 (normalized), 14.65 (pixels)\n",
      "MPJPE: 0.0143 (normalized), 4.19 (pixels)\n",
      "MPJPE: 0.0143 (normalized), 4.21 (pixels)\n",
      "MPJPE: 0.0161 (normalized), 4.71 (pixels)\n",
      "MPJPE: 0.0099 (normalized), 2.90 (pixels)\n",
      "MPJPE: 0.0116 (normalized), 3.40 (pixels)\n",
      "MPJPE: 0.0562 (normalized), 16.49 (pixels)\n",
      "MPJPE: 0.0125 (normalized), 3.66 (pixels)\n",
      "MPJPE: 0.0198 (normalized), 5.82 (pixels)\n"
     ]
    }
   ],
   "source": [
    "# Obtener la lista de todas las imágenes en la carpeta\n",
    "image_files = [f for f in os.listdir(images_path) if f.endswith('.jpg')]\n",
    "image_files_sorted = sorted(image_files)\n",
    "results = []\n",
    "\n",
    "for image in image_files_sorted:\n",
    "    results = evaluator.evaluate_image(image, results)"
   ]
  },
  {
   "cell_type": "markdown",
   "metadata": {},
   "source": [
    "# Generando XLS con informacion"
   ]
  },
  {
   "cell_type": "code",
   "execution_count": 4,
   "metadata": {},
   "outputs": [
    {
     "name": "stdout",
     "output_type": "stream",
     "text": [
      "Los resultados se han guardado en /Users/apple/Documents/pose_estimation/ViTPosev4.57/precision/MPJPE/vitpose_mpjpe_results.xlsx\n"
     ]
    }
   ],
   "source": [
    "# Crear un DataFrame con los resultados\n",
    "df_results = pd.DataFrame(results)\n",
    "output_excel_path = os.path.join(os.getenv('BASE_PATH'), os.getenv('VITPOSE_SUBPATH'), 'precision', 'MPJPE', 'vitpose_mpjpe_results.xlsx')\n",
    "df_results.to_excel(output_excel_path, index=False, engine='openpyxl')\n",
    "\n",
    "print(f\"Los resultados se han guardado en {output_excel_path}\")"
   ]
  },
  {
   "cell_type": "markdown",
   "metadata": {},
   "source": [
    "# Interpretacion de resultados\n",
    "\n",
    "Si el MPJPE es alto o bajo se debe considerar que\n",
    "- Las coordenadas ya se encuentran normalizadas en un valor de 0 y 1\n",
    "- En terminos de pixeles, si la imagen tiene un tamanho de 256 x 256, el error promedio (5.54%) seria **mpjep x pixeles**, ej. 0.055465 x 256 = 14.19, esto significa que las predicciones estan desviadas por aproximadamente 14.19 pixeles de las reales"
   ]
  }
 ],
 "metadata": {
  "kernelspec": {
   "display_name": "vitpose_env",
   "language": "python",
   "name": "python3"
  },
  "language_info": {
   "codemirror_mode": {
    "name": "ipython",
    "version": 3
   },
   "file_extension": ".py",
   "mimetype": "text/x-python",
   "name": "python",
   "nbconvert_exporter": "python",
   "pygments_lexer": "ipython3",
   "version": "3.11.13"
  }
 },
 "nbformat": 4,
 "nbformat_minor": 2
}
